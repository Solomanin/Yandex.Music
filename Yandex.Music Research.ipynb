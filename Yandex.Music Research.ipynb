{
 "cells": [
  {
   "cell_type": "markdown",
   "metadata": {
    "id": "E0vqbgi9ay0H"
   },
   "source": [
    "# Yandex.Music"
   ]
  },
  {
   "cell_type": "markdown",
   "metadata": {
    "id": "VUC88oWjTJw2"
   },
   "source": [
    "Comparison of Moscow and St. Petersburg is surrounded by myths. For example:\n",
    " * Moscow is a metropolis subject to the rigid rhythm of the working week;\n",
    " * St. Petersburg is a cultural capital, with its own tastes.\n",
    "\n",
    "Using Yandex.Music data, you will compare the behavior of users in the two capitals.\n",
    "\n",
    "**Research Purpose** - Test three hypotheses:\n",
    "1. User activity depends on the day of the week. Moreover, in Moscow and St. Petersburg this manifests itself in different ways.\n",
    "2. On Monday morning, certain genres prevail in Moscow, while others prevail in St. Petersburg. Similarly, Friday evenings are dominated by different genres, depending on the city.\n",
    "3. Moscow and St. Petersburg prefer different genres of music. In Moscow, they listen to pop music more often, in St. Petersburg - Russian rap.\n",
    "\n",
    "**Research Progress**\n",
    "\n",
    "You will receive data on user behavior from the `yandex_music_project.csv` file. Nothing is known about the quality of the data. Therefore, before testing hypotheses, a review of the data is required.\n",
    "\n",
    "You will check the data for errors and assess their impact on the study. Then, in the pre-processing phase, you will look for opportunities to correct the most critical data errors.\n",
    " \n",
    "Thus, the study will take place in three stages:\n",
    " 1. Data review.\n",
    " 2. Data preprocessing.\n",
    " 3. Hypothesis testing.\n",
    "\n"
   ]
  },
  {
   "cell_type": "markdown",
   "metadata": {
    "id": "Ml1hmfXC_Zcs"
   },
   "source": [
    "## Data review\n",
    "\n",
    "\n",
    "\n",
    "\n"
   ]
  },
  {
   "cell_type": "markdown",
   "metadata": {
    "id": "57eAOGIz_Zcs"
   },
   "source": [
    "Основной инструмент аналитика — `pandas`. Импортируйте эту библиотеку."
   ]
  },
  {
   "cell_type": "code",
   "execution_count": 1,
   "metadata": {
    "id": "AXN7PHPN_Zcs"
   },
   "outputs": [],
   "source": [
    "# pandas library import\n",
    "import pandas as pd"
   ]
  },
  {
   "cell_type": "markdown",
   "metadata": {
    "id": "SG23P8tt_Zcs"
   },
   "source": [
    "Прочитайте файл `yandex_music_project.csv` из папки `/datasets` и сохраните его в переменной `df`:"
   ]
  },
  {
   "cell_type": "code",
   "execution_count": 2,
   "metadata": {
    "id": "fFVu7vqh_Zct"
   },
   "outputs": [],
   "source": [
    "# reading data file and saving to df\n",
    "df = pd.read_csv(\"/datasets/\" \"yandex_music_project.csv\")\n",
    "\n",
    "\n"
   ]
  },
  {
   "cell_type": "markdown",
   "metadata": {
    "id": "rDoOMd3uTqnZ"
   },
   "source": [
    "Выведите на экран первые десять строк таблицы:"
   ]
  },
  {
   "cell_type": "code",
   "execution_count": 3,
   "metadata": {
    "id": "oWTVX3gW_Zct"
   },
   "outputs": [
    {
     "data": {
      "text/html": [
       "<div>\n",
       "<style scoped>\n",
       "    .dataframe tbody tr th:only-of-type {\n",
       "        vertical-align: middle;\n",
       "    }\n",
       "\n",
       "    .dataframe tbody tr th {\n",
       "        vertical-align: top;\n",
       "    }\n",
       "\n",
       "    .dataframe thead th {\n",
       "        text-align: right;\n",
       "    }\n",
       "</style>\n",
       "<table border=\"1\" class=\"dataframe\">\n",
       "  <thead>\n",
       "    <tr style=\"text-align: right;\">\n",
       "      <th></th>\n",
       "      <th>userID</th>\n",
       "      <th>Track</th>\n",
       "      <th>artist</th>\n",
       "      <th>genre</th>\n",
       "      <th>City</th>\n",
       "      <th>time</th>\n",
       "      <th>Day</th>\n",
       "    </tr>\n",
       "  </thead>\n",
       "  <tbody>\n",
       "    <tr>\n",
       "      <td>0</td>\n",
       "      <td>FFB692EC</td>\n",
       "      <td>Kamigata To Boots</td>\n",
       "      <td>The Mass Missile</td>\n",
       "      <td>rock</td>\n",
       "      <td>Saint-Petersburg</td>\n",
       "      <td>20:28:33</td>\n",
       "      <td>Wednesday</td>\n",
       "    </tr>\n",
       "    <tr>\n",
       "      <td>1</td>\n",
       "      <td>55204538</td>\n",
       "      <td>Delayed Because of Accident</td>\n",
       "      <td>Andreas Rönnberg</td>\n",
       "      <td>rock</td>\n",
       "      <td>Moscow</td>\n",
       "      <td>14:07:09</td>\n",
       "      <td>Friday</td>\n",
       "    </tr>\n",
       "    <tr>\n",
       "      <td>2</td>\n",
       "      <td>20EC38</td>\n",
       "      <td>Funiculì funiculà</td>\n",
       "      <td>Mario Lanza</td>\n",
       "      <td>pop</td>\n",
       "      <td>Saint-Petersburg</td>\n",
       "      <td>20:58:07</td>\n",
       "      <td>Wednesday</td>\n",
       "    </tr>\n",
       "    <tr>\n",
       "      <td>3</td>\n",
       "      <td>A3DD03C9</td>\n",
       "      <td>Dragons in the Sunset</td>\n",
       "      <td>Fire + Ice</td>\n",
       "      <td>folk</td>\n",
       "      <td>Saint-Petersburg</td>\n",
       "      <td>08:37:09</td>\n",
       "      <td>Monday</td>\n",
       "    </tr>\n",
       "    <tr>\n",
       "      <td>4</td>\n",
       "      <td>E2DC1FAE</td>\n",
       "      <td>Soul People</td>\n",
       "      <td>Space Echo</td>\n",
       "      <td>dance</td>\n",
       "      <td>Moscow</td>\n",
       "      <td>08:34:34</td>\n",
       "      <td>Monday</td>\n",
       "    </tr>\n",
       "    <tr>\n",
       "      <td>5</td>\n",
       "      <td>842029A1</td>\n",
       "      <td>Преданная</td>\n",
       "      <td>IMPERVTOR</td>\n",
       "      <td>rusrap</td>\n",
       "      <td>Saint-Petersburg</td>\n",
       "      <td>13:09:41</td>\n",
       "      <td>Friday</td>\n",
       "    </tr>\n",
       "    <tr>\n",
       "      <td>6</td>\n",
       "      <td>4CB90AA5</td>\n",
       "      <td>True</td>\n",
       "      <td>Roman Messer</td>\n",
       "      <td>dance</td>\n",
       "      <td>Moscow</td>\n",
       "      <td>13:00:07</td>\n",
       "      <td>Wednesday</td>\n",
       "    </tr>\n",
       "    <tr>\n",
       "      <td>7</td>\n",
       "      <td>F03E1C1F</td>\n",
       "      <td>Feeling This Way</td>\n",
       "      <td>Polina Griffith</td>\n",
       "      <td>dance</td>\n",
       "      <td>Moscow</td>\n",
       "      <td>20:47:49</td>\n",
       "      <td>Wednesday</td>\n",
       "    </tr>\n",
       "    <tr>\n",
       "      <td>8</td>\n",
       "      <td>8FA1D3BE</td>\n",
       "      <td>И вновь продолжается бой</td>\n",
       "      <td>NaN</td>\n",
       "      <td>ruspop</td>\n",
       "      <td>Moscow</td>\n",
       "      <td>09:17:40</td>\n",
       "      <td>Friday</td>\n",
       "    </tr>\n",
       "    <tr>\n",
       "      <td>9</td>\n",
       "      <td>E772D5C0</td>\n",
       "      <td>Pessimist</td>\n",
       "      <td>NaN</td>\n",
       "      <td>dance</td>\n",
       "      <td>Saint-Petersburg</td>\n",
       "      <td>21:20:49</td>\n",
       "      <td>Wednesday</td>\n",
       "    </tr>\n",
       "  </tbody>\n",
       "</table>\n",
       "</div>"
      ],
      "text/plain": [
       "     userID                        Track            artist   genre  \\\n",
       "0  FFB692EC            Kamigata To Boots  The Mass Missile    rock   \n",
       "1  55204538  Delayed Because of Accident  Andreas Rönnberg    rock   \n",
       "2    20EC38            Funiculì funiculà       Mario Lanza     pop   \n",
       "3  A3DD03C9        Dragons in the Sunset        Fire + Ice    folk   \n",
       "4  E2DC1FAE                  Soul People        Space Echo   dance   \n",
       "5  842029A1                    Преданная         IMPERVTOR  rusrap   \n",
       "6  4CB90AA5                         True      Roman Messer   dance   \n",
       "7  F03E1C1F             Feeling This Way   Polina Griffith   dance   \n",
       "8  8FA1D3BE     И вновь продолжается бой               NaN  ruspop   \n",
       "9  E772D5C0                    Pessimist               NaN   dance   \n",
       "\n",
       "             City        time        Day  \n",
       "0  Saint-Petersburg  20:28:33  Wednesday  \n",
       "1            Moscow  14:07:09     Friday  \n",
       "2  Saint-Petersburg  20:58:07  Wednesday  \n",
       "3  Saint-Petersburg  08:37:09     Monday  \n",
       "4            Moscow  08:34:34     Monday  \n",
       "5  Saint-Petersburg  13:09:41     Friday  \n",
       "6            Moscow  13:00:07  Wednesday  \n",
       "7            Moscow  20:47:49  Wednesday  \n",
       "8            Moscow  09:17:40     Friday  \n",
       "9  Saint-Petersburg  21:20:49  Wednesday  "
      ]
     },
     "execution_count": 3,
     "metadata": {},
     "output_type": "execute_result"
    }
   ],
   "source": [
    "df.head(10)"
   ]
  },
  {
   "cell_type": "markdown",
   "metadata": {
    "id": "EO73Kwic_Zct"
   },
   "source": [
    "Одной командой получить общую информацию о таблице:"
   ]
  },
  {
   "cell_type": "code",
   "execution_count": 4,
   "metadata": {
    "id": "DSf2kIb-_Zct"
   },
   "outputs": [
    {
     "name": "stdout",
     "output_type": "stream",
     "text": [
      "<class 'pandas.core.frame.DataFrame'>\n",
      "RangeIndex: 65079 entries, 0 to 65078\n",
      "Data columns (total 7 columns):\n",
      "  userID    65079 non-null object\n",
      "Track       63848 non-null object\n",
      "artist      57876 non-null object\n",
      "genre       63881 non-null object\n",
      "  City      65079 non-null object\n",
      "time        65079 non-null object\n",
      "Day         65079 non-null object\n",
      "dtypes: object(7)\n",
      "memory usage: 3.5+ MB\n"
     ]
    }
   ],
   "source": [
    "# getting general information about the data in the df table\n",
    "df.info()"
   ]
  },
  {
   "cell_type": "markdown",
   "metadata": {
    "id": "TaQ2Iwbr_Zct"
   },
   "source": [
    "So, the table has seven columns. The data type in all columns is `object`.\n",
    "\n",
    "According to the data documentation:\n",
    "* `userID`\n",
    "* `Track` \n",
    "* `artist` \n",
    "* `genre` \n",
    "* `City` \n",
    "* `time` \n",
    "* `Day` \n",
    "\n",
    "There are three style violations in the column headings:\n",
    "1. Lowercase letters are combined with uppercase.\n",
    "2. There are gaps.\n",
    "3. In the \"userID\" column, it's better to do \"user_id\" for good style.\n",
    "\n",
    "\n",
    "\n",
    "The number of values ​​in the columns varies. This means there are missing values ​​in the data.\n"
   ]
  },
  {
   "cell_type": "markdown",
   "metadata": {
    "id": "MCB6-dXG_Zct"
   },
   "source": [
    "**Сonclusion**\n",
    "\n",
    "Each line of the table contains data about the track you have listened to. Some of the columns describe the composition itself: title, artist and genre. The rest of the data tells about the user: what city he is from, when he listened to music.\n",
    "\n",
    "Preliminarily, it can be argued that there is enough data to test hypotheses. But there are gaps in the data, and discrepancies in the names of the columns with good style.\n",
    "\n",
    "To move forward, you need to fix problems in the data."
   ]
  },
  {
   "cell_type": "markdown",
   "metadata": {
    "id": "SjYF6Ub9_Zct"
   },
   "source": [
    "## Data preprocessing \n",
    "Let's correct the style in the column headings, eliminate gaps. Then check the data for duplicates."
   ]
  },
  {
   "cell_type": "markdown",
   "metadata": {
    "id": "dIaKXr29_Zct"
   },
   "source": [
    "### Heading style\n"
   ]
  },
  {
   "cell_type": "code",
   "execution_count": 5,
   "metadata": {
    "id": "oKOTdF_Q_Zct"
   },
   "outputs": [
    {
     "name": "stdout",
     "output_type": "stream",
     "text": [
      "Index(['  userID', 'Track', 'artist', 'genre', '  City  ', 'time', 'Day'], dtype='object')\n"
     ]
    }
   ],
   "source": [
    "# list of column names of table df\n",
    "print(df.columns)"
   ]
  },
  {
   "cell_type": "markdown",
   "metadata": {
    "id": "FPZA3ki8xe7T"
   },
   "source": []
  },
  {
   "cell_type": "markdown",
   "metadata": {
    "id": "zj5534cv_Zct"
   },
   "source": [
    "Let's bring the names in line with good style:\n",
    "* write a few words in the title in \"snake_register\",\n",
    "* make all characters lowercase,\n",
    "* eliminate spaces.\n",
    "\n",
    "To do this, rename the columns like this:\n",
    "* `'  userID'` → `'user_id'`;\n",
    "* `'Track'` → `'track'`;\n",
    "* `'  City  '` → `'city'`;\n",
    "* `'Day'` → `'day'`."
   ]
  },
  {
   "cell_type": "code",
   "execution_count": 6,
   "metadata": {
    "id": "ISlFqs5y_Zct"
   },
   "outputs": [],
   "source": [
    "# renaming columns\n",
    "df = df.rename(columns = {\"  userID\" :\"user_id\", \"Track\" : \"track\",   '  City  ': \"city\", \"Day\" : \"day\" })"
   ]
  },
  {
   "cell_type": "markdown",
   "metadata": {
    "id": "1dqbh00J_Zct"
   },
   "source": [
    "Проверьте результат. Для этого ещё раз выведите на экран названия столбцов:"
   ]
  },
  {
   "cell_type": "code",
   "execution_count": 7,
   "metadata": {
    "id": "d4NOAmTW_Zct"
   },
   "outputs": [
    {
     "data": {
      "text/html": [
       "<div>\n",
       "<style scoped>\n",
       "    .dataframe tbody tr th:only-of-type {\n",
       "        vertical-align: middle;\n",
       "    }\n",
       "\n",
       "    .dataframe tbody tr th {\n",
       "        vertical-align: top;\n",
       "    }\n",
       "\n",
       "    .dataframe thead th {\n",
       "        text-align: right;\n",
       "    }\n",
       "</style>\n",
       "<table border=\"1\" class=\"dataframe\">\n",
       "  <thead>\n",
       "    <tr style=\"text-align: right;\">\n",
       "      <th></th>\n",
       "      <th>user_id</th>\n",
       "      <th>track</th>\n",
       "      <th>artist</th>\n",
       "      <th>genre</th>\n",
       "      <th>city</th>\n",
       "      <th>time</th>\n",
       "      <th>day</th>\n",
       "    </tr>\n",
       "  </thead>\n",
       "  <tbody>\n",
       "    <tr>\n",
       "      <td>0</td>\n",
       "      <td>FFB692EC</td>\n",
       "      <td>Kamigata To Boots</td>\n",
       "      <td>The Mass Missile</td>\n",
       "      <td>rock</td>\n",
       "      <td>Saint-Petersburg</td>\n",
       "      <td>20:28:33</td>\n",
       "      <td>Wednesday</td>\n",
       "    </tr>\n",
       "    <tr>\n",
       "      <td>1</td>\n",
       "      <td>55204538</td>\n",
       "      <td>Delayed Because of Accident</td>\n",
       "      <td>Andreas Rönnberg</td>\n",
       "      <td>rock</td>\n",
       "      <td>Moscow</td>\n",
       "      <td>14:07:09</td>\n",
       "      <td>Friday</td>\n",
       "    </tr>\n",
       "    <tr>\n",
       "      <td>2</td>\n",
       "      <td>20EC38</td>\n",
       "      <td>Funiculì funiculà</td>\n",
       "      <td>Mario Lanza</td>\n",
       "      <td>pop</td>\n",
       "      <td>Saint-Petersburg</td>\n",
       "      <td>20:58:07</td>\n",
       "      <td>Wednesday</td>\n",
       "    </tr>\n",
       "    <tr>\n",
       "      <td>3</td>\n",
       "      <td>A3DD03C9</td>\n",
       "      <td>Dragons in the Sunset</td>\n",
       "      <td>Fire + Ice</td>\n",
       "      <td>folk</td>\n",
       "      <td>Saint-Petersburg</td>\n",
       "      <td>08:37:09</td>\n",
       "      <td>Monday</td>\n",
       "    </tr>\n",
       "    <tr>\n",
       "      <td>4</td>\n",
       "      <td>E2DC1FAE</td>\n",
       "      <td>Soul People</td>\n",
       "      <td>Space Echo</td>\n",
       "      <td>dance</td>\n",
       "      <td>Moscow</td>\n",
       "      <td>08:34:34</td>\n",
       "      <td>Monday</td>\n",
       "    </tr>\n",
       "  </tbody>\n",
       "</table>\n",
       "</div>"
      ],
      "text/plain": [
       "    user_id                        track            artist  genre  \\\n",
       "0  FFB692EC            Kamigata To Boots  The Mass Missile   rock   \n",
       "1  55204538  Delayed Because of Accident  Andreas Rönnberg   rock   \n",
       "2    20EC38            Funiculì funiculà       Mario Lanza    pop   \n",
       "3  A3DD03C9        Dragons in the Sunset        Fire + Ice   folk   \n",
       "4  E2DC1FAE                  Soul People        Space Echo  dance   \n",
       "\n",
       "               city      time        day  \n",
       "0  Saint-Petersburg  20:28:33  Wednesday  \n",
       "1            Moscow  14:07:09     Friday  \n",
       "2  Saint-Petersburg  20:58:07  Wednesday  \n",
       "3  Saint-Petersburg  08:37:09     Monday  \n",
       "4            Moscow  08:34:34     Monday  "
      ]
     },
     "execution_count": 7,
     "metadata": {},
     "output_type": "execute_result"
    }
   ],
   "source": [
    "# check results - list column names\n",
    "df.head()"
   ]
  },
  {
   "cell_type": "markdown",
   "metadata": {
    "id": "5ISfbcfY_Zct"
   },
   "source": [
    "### Missing values\n",
    "First, let's calculate how many missing values ​​are in the table. There are two methods for this. `pandas`:"
   ]
  },
  {
   "cell_type": "code",
   "execution_count": 8,
   "metadata": {
    "id": "RskX29qr_Zct"
   },
   "outputs": [
    {
     "name": "stdout",
     "output_type": "stream",
     "text": [
      "user_id       0\n",
      "track      1231\n",
      "artist     7203\n",
      "genre      1198\n",
      "city          0\n",
      "time          0\n",
      "day           0\n",
      "dtype: int64\n"
     ]
    }
   ],
   "source": [
    "# skip count\n",
    "print(df.isna().sum())"
   ]
  },
  {
   "cell_type": "markdown",
   "metadata": {
    "id": "qubhgnlO_Zct"
   },
   "source": [
    "Not all missing values ​​affect the study. So in `track` and `artist` the gaps are not important for your work. It suffices to replace them with explicit notation.\n",
    "\n",
    "But omissions in `genre` can interfere with the comparison of musical tastes in Moscow and St. Petersburg. In practice, it would be correct to determine the cause of the gaps and restore the data. This option is not available in the curriculum. Have to:\n",
    "* fill in these gaps with explicit notation,\n",
    "* estimate how much they will damage the calculations.\n"
   ]
  },
  {
   "cell_type": "markdown",
   "metadata": {
    "id": "fSv2laPA_Zct"
   },
   "source": [
    "Replace the missing values ​​in the `track`, `artist` and `genre` columns with the string `'unknown'`. To do this, create a `columns_to_replace` list, iterate through its elements with a `for` loop, and for each column, replace the missing values:"
   ]
  },
  {
   "cell_type": "code",
   "execution_count": 9,
   "metadata": {
    "id": "KplB5qWs_Zct"
   },
   "outputs": [],
   "source": [
    "# loop through column names and replace missing values ​​with 'unknown'\n",
    "# I don't see much point in doing a loop, because you can just create a list, and apply the fillna list, the result will be the same.\n",
    "columns_to_replace = [\"track\", \"artist\" , \"genre\"]\n",
    "df[columns_to_replace] = df[columns_to_replace].fillna(\"unknown\")"
   ]
  },
  {
   "cell_type": "markdown",
   "metadata": {
    "id": "Ilsm-MZo_Zct"
   },
   "source": [
    "Make sure there are no gaps in the table. To do this, count the missing values ​​again."
   ]
  },
  {
   "cell_type": "code",
   "execution_count": 10,
   "metadata": {
    "id": "Tq4nYRX4_Zct"
   },
   "outputs": [
    {
     "data": {
      "text/plain": [
       "user_id    0\n",
       "track      0\n",
       "artist     0\n",
       "genre      0\n",
       "city       0\n",
       "time       0\n",
       "day        0\n",
       "dtype: int64"
      ]
     },
     "execution_count": 10,
     "metadata": {},
     "output_type": "execute_result"
    }
   ],
   "source": [
    "# skip count\n",
    "df.isna().sum()"
   ]
  },
  {
   "cell_type": "markdown",
   "metadata": {
    "id": "BWKRtBJ3_Zct"
   },
   "source": [
    "### Duplicates\n",
    "Let's count explicit duplicates in the table with one command:"
   ]
  },
  {
   "cell_type": "code",
   "execution_count": 11,
   "metadata": {
    "id": "36eES_S0_Zct"
   },
   "outputs": [
    {
     "data": {
      "text/plain": [
       "3826"
      ]
     },
     "execution_count": 11,
     "metadata": {},
     "output_type": "execute_result"
    }
   ],
   "source": [
    "# counting clear duplicates\n",
    "df.duplicated().sum()"
   ]
  },
  {
   "cell_type": "markdown",
   "metadata": {
    "id": "Ot25h6XR_Zct"
   },
   "source": [
    "Call the special `pandas` method to remove obvious duplicates:"
   ]
  },
  {
   "cell_type": "code",
   "execution_count": 12,
   "metadata": {
    "id": "exFHq6tt_Zct"
   },
   "outputs": [],
   "source": [
    "# removal of explicit duplicates (with the removal of old indexes and the formation of new ones)\n",
    "df = df.drop_duplicates().reset_index(drop=True)"
   ]
  },
  {
   "cell_type": "markdown",
   "metadata": {
    "id": "Im2YwBEG_Zct"
   },
   "source": [
    "Once again, let's count the obvious duplicates in the table - make sure you get rid of them completely:"
   ]
  },
  {
   "cell_type": "code",
   "execution_count": null,
   "metadata": {},
   "outputs": [],
   "source": [
    "# check for duplicates\n",
    "df.duplicated().sum()\n"
   ]
  },
  {
   "cell_type": "markdown",
   "metadata": {
    "id": "QlFBsxAr_Zct"
   },
   "source": [
    "Now let's get rid of the implicit duplicates in the `genre` column. For example, the name of the same genre can be spelled slightly differently. Such errors will also affect the result of the study."
   ]
  },
  {
   "cell_type": "markdown",
   "metadata": {
    "id": "eSjWwsOh_Zct"
   },
   "source": [
    "Let's display a list of unique genre names, sorted alphabetically. For this:\n",
    "* extract the desired dataframe column,\n",
    "* apply a sort method to it,\n",
    "* for a sorted column, call a method that will return the unique values ​​from the column."
   ]
  },
  {
   "cell_type": "code",
   "execution_count": 14,
   "metadata": {
    "id": "JIUcqzZN_Zct"
   },
   "outputs": [
    {
     "data": {
      "text/plain": [
       "array(['rock', 'pop', 'folk', 'dance', 'rusrap', 'ruspop', 'world',\n",
       "       'electronic', 'unknown', 'alternative', 'children', 'rnb', 'hip',\n",
       "       'jazz', 'postrock', 'latin', 'classical', 'metal', 'reggae',\n",
       "       'tatar', 'blues', 'instrumental', 'rusrock', 'dnb', 'türk', 'post',\n",
       "       'country', 'psychedelic', 'conjazz', 'indie', 'posthardcore',\n",
       "       'local', 'avantgarde', 'punk', 'videogame', 'techno', 'house',\n",
       "       'christmas', 'melodic', 'caucasian', 'reggaeton', 'soundtrack',\n",
       "       'singer', 'ska', 'shanson', 'ambient', 'film', 'western', 'rap',\n",
       "       'beats', \"hard'n'heavy\", 'progmetal', 'minimal', 'contemporary',\n",
       "       'new', 'soul', 'holiday', 'german', 'tropical', 'fairytail',\n",
       "       'spiritual', 'urban', 'gospel', 'nujazz', 'folkmetal', 'trance',\n",
       "       'miscellaneous', 'anime', 'hardcore', 'progressive', 'chanson',\n",
       "       'numetal', 'vocal', 'estrada', 'russian', 'classicmetal',\n",
       "       'dubstep', 'club', 'deep', 'southern', 'black', 'folkrock',\n",
       "       'fitness', 'french', 'disco', 'religious', 'hiphop', 'drum',\n",
       "       'extrememetal', 'türkçe', 'experimental', 'easy', 'metalcore',\n",
       "       'modern', 'argentinetango', 'old', 'breaks', 'eurofolk',\n",
       "       'stonerrock', 'industrial', 'funk', 'jpop', 'middle', 'variété',\n",
       "       'other', 'adult', 'christian', 'gothic', 'international', 'muslim',\n",
       "       'relax', 'schlager', 'caribbean', 'ukrrock', 'nu', 'breakbeat',\n",
       "       'comedy', 'chill', 'newage', 'specialty', 'uzbek', 'k-pop',\n",
       "       'balkan', 'chinese', 'meditative', 'dub', 'power', 'death',\n",
       "       'grime', 'arabesk', 'romance', 'flamenco', 'leftfield', 'european',\n",
       "       'tech', 'newwave', 'dancehall', 'mpb', 'piano', 'top', 'bigroom',\n",
       "       'opera', 'celtic', 'tradjazz', 'acoustic', 'epicmetal', 'hip-hop',\n",
       "       'historisch', 'downbeat', 'downtempo', 'africa', 'audiobook',\n",
       "       'jewish', 'sängerportrait', 'deutschrock', 'eastern', 'action',\n",
       "       'future', 'electropop', 'folklore', 'bollywood', 'marschmusik',\n",
       "       'rnr', 'karaoke', 'indian', 'rancheras', 'электроника',\n",
       "       'afrikaans', 'tango', 'rhythm', 'sound', 'deutschspr', 'trip',\n",
       "       'lovers', 'choral', 'dancepop', 'podcasts', 'retro', 'smooth',\n",
       "       'mexican', 'brazilian', 'ïîï', 'mood', 'surf', 'author', 'gangsta',\n",
       "       'triphop', 'inspirational', 'idm', 'ethnic', 'bluegrass',\n",
       "       'broadway', 'animated', 'americana', 'karadeniz', 'rockabilly',\n",
       "       'colombian', 'self', 'hop', 'synthrock', 'sertanejo', 'japanese',\n",
       "       'canzone', 'swing', 'lounge', 'sport', 'korean', 'ragga',\n",
       "       'traditional', 'gitarre', 'frankreich', 'alternativepunk', 'emo',\n",
       "       'laiko', 'cantopop', 'glitch', 'documentary', 'rockalternative',\n",
       "       'thrash', 'hymn', 'oceania', 'rockother', 'popeurodance', 'dark',\n",
       "       'vi', 'grunge', 'hardstyle', 'samba', 'garage', 'soft', 'art',\n",
       "       'folktronica', 'entehno', 'mediterranean', 'chamber', 'cuban',\n",
       "       'taraftar', 'rockindie', 'gypsy', 'hardtechno', 'shoegazing',\n",
       "       'skarock', 'bossa', 'salsa', 'latino', 'worldbeat', 'malaysian',\n",
       "       'baile', 'ghazal', 'loungeelectronic', 'arabic', 'popelectronic',\n",
       "       'acid', 'kayokyoku', 'neoklassik', 'tribal', 'tanzorchester',\n",
       "       'native', 'independent', 'cantautori', 'handsup', 'poprussian',\n",
       "       'punjabi', 'synthpop', 'rave', 'französisch', 'quebecois',\n",
       "       'speech', 'soulful', 'teen', 'jam', 'ram', 'horror', 'scenic',\n",
       "       'orchestral', 'neue', 'roots', 'slow', 'jungle', 'indipop', 'axé',\n",
       "       'fado', 'showtunes', 'arena', 'irish', 'mandopop', 'forró',\n",
       "       'popdance', 'dirty', 'regional'], dtype=object)"
      ]
     },
     "execution_count": 14,
     "metadata": {},
     "output_type": "execute_result"
    }
   ],
   "source": [
    "# View Unique Genre Names\n",
    "df[\"genre\"].unique()\n"
   ]
  },
  {
   "cell_type": "markdown",
   "metadata": {
    "id": "qej-Qmuo_Zct"
   },
   "source": [
    "Let's go through the list and look for implicit duplicates of the name `hiphop`. These may be misspelled titles or alternative titles in the same genre.\n",
    "\n",
    "You will see the following implicit duplicates:\n",
    "**hip*,\n",
    "**hop*,\n",
    "**hip-hop*.\n",
    "\n",
    "To clear the table of them, write the `replace_wrong_genres()` function with two parameters:\n",
    "* `wrong_genres` - list of duplicates,\n",
    "* `correct_genre` is a string with the correct value.\n",
    "\n",
    "The function should correct the `genre` column in the `df` table: replace each value from the `wrong_genres` list with a value from `correct_genre`."
   ]
  },
  {
   "cell_type": "code",
   "execution_count": 15,
   "metadata": {
    "id": "ErNDkmns_Zct"
   },
   "outputs": [],
   "source": [
    "# Function to replace implicit duplicates\n",
    "def replace_wrong_genres(wrong_genres, correct_genre):\n",
    "    for wrong_genre in wrong_genres:\n",
    "        df[\"genre\"] =df[\"genre\"].replace(wrong_genre, correct_genre)"
   ]
  },
  {
   "cell_type": "markdown",
   "metadata": {
    "id": "aDoBJxbA_Zct"
   },
   "source": [
    "Let's call `replace_wrong_genres()` and pass it arguments such that it eliminates implicit duplicates: instead of `hip`, `hop` and `hip-hop` the table should have the value `hiphop`:"
   ]
  },
  {
   "cell_type": "code",
   "execution_count": 16,
   "metadata": {
    "id": "YN5i2hpmSo09"
   },
   "outputs": [],
   "source": [
    "# Eliminate Implicit Duplicates\n",
    "wr_d = [\"hip\", \"hop\", \"hip-hop\"]\n",
    "correct_genre = \"hiphop\"\n",
    "replace_wrong_genres(wr_d, correct_genre)"
   ]
  },
  {
   "cell_type": "markdown",
   "metadata": {
    "id": "zQKF16_RG15m"
   },
   "source": [
    "Let's check that we have replaced the wrong names:\n",
    "\n",
    "* hip\n",
    "* hop\n",
    "* hip-hop\n",
    "\n",
    "Print a sorted list of unique values ​​in the `genre` column:"
   ]
  },
  {
   "cell_type": "code",
   "execution_count": 17,
   "metadata": {
    "id": "wvixALnFG15m"
   },
   "outputs": [
    {
     "data": {
      "text/plain": [
       "array(['rock', 'pop', 'folk', 'dance', 'rusrap', 'ruspop', 'world',\n",
       "       'electronic', 'unknown', 'alternative', 'children', 'rnb',\n",
       "       'hiphop', 'jazz', 'postrock', 'latin', 'classical', 'metal',\n",
       "       'reggae', 'tatar', 'blues', 'instrumental', 'rusrock', 'dnb',\n",
       "       'türk', 'post', 'country', 'psychedelic', 'conjazz', 'indie',\n",
       "       'posthardcore', 'local', 'avantgarde', 'punk', 'videogame',\n",
       "       'techno', 'house', 'christmas', 'melodic', 'caucasian',\n",
       "       'reggaeton', 'soundtrack', 'singer', 'ska', 'shanson', 'ambient',\n",
       "       'film', 'western', 'rap', 'beats', \"hard'n'heavy\", 'progmetal',\n",
       "       'minimal', 'contemporary', 'new', 'soul', 'holiday', 'german',\n",
       "       'tropical', 'fairytail', 'spiritual', 'urban', 'gospel', 'nujazz',\n",
       "       'folkmetal', 'trance', 'miscellaneous', 'anime', 'hardcore',\n",
       "       'progressive', 'chanson', 'numetal', 'vocal', 'estrada', 'russian',\n",
       "       'classicmetal', 'dubstep', 'club', 'deep', 'southern', 'black',\n",
       "       'folkrock', 'fitness', 'french', 'disco', 'religious', 'drum',\n",
       "       'extrememetal', 'türkçe', 'experimental', 'easy', 'metalcore',\n",
       "       'modern', 'argentinetango', 'old', 'breaks', 'eurofolk',\n",
       "       'stonerrock', 'industrial', 'funk', 'jpop', 'middle', 'variété',\n",
       "       'other', 'adult', 'christian', 'gothic', 'international', 'muslim',\n",
       "       'relax', 'schlager', 'caribbean', 'ukrrock', 'nu', 'breakbeat',\n",
       "       'comedy', 'chill', 'newage', 'specialty', 'uzbek', 'k-pop',\n",
       "       'balkan', 'chinese', 'meditative', 'dub', 'power', 'death',\n",
       "       'grime', 'arabesk', 'romance', 'flamenco', 'leftfield', 'european',\n",
       "       'tech', 'newwave', 'dancehall', 'mpb', 'piano', 'top', 'bigroom',\n",
       "       'opera', 'celtic', 'tradjazz', 'acoustic', 'epicmetal',\n",
       "       'historisch', 'downbeat', 'downtempo', 'africa', 'audiobook',\n",
       "       'jewish', 'sängerportrait', 'deutschrock', 'eastern', 'action',\n",
       "       'future', 'electropop', 'folklore', 'bollywood', 'marschmusik',\n",
       "       'rnr', 'karaoke', 'indian', 'rancheras', 'электроника',\n",
       "       'afrikaans', 'tango', 'rhythm', 'sound', 'deutschspr', 'trip',\n",
       "       'lovers', 'choral', 'dancepop', 'podcasts', 'retro', 'smooth',\n",
       "       'mexican', 'brazilian', 'ïîï', 'mood', 'surf', 'author', 'gangsta',\n",
       "       'triphop', 'inspirational', 'idm', 'ethnic', 'bluegrass',\n",
       "       'broadway', 'animated', 'americana', 'karadeniz', 'rockabilly',\n",
       "       'colombian', 'self', 'synthrock', 'sertanejo', 'japanese',\n",
       "       'canzone', 'swing', 'lounge', 'sport', 'korean', 'ragga',\n",
       "       'traditional', 'gitarre', 'frankreich', 'alternativepunk', 'emo',\n",
       "       'laiko', 'cantopop', 'glitch', 'documentary', 'rockalternative',\n",
       "       'thrash', 'hymn', 'oceania', 'rockother', 'popeurodance', 'dark',\n",
       "       'vi', 'grunge', 'hardstyle', 'samba', 'garage', 'soft', 'art',\n",
       "       'folktronica', 'entehno', 'mediterranean', 'chamber', 'cuban',\n",
       "       'taraftar', 'rockindie', 'gypsy', 'hardtechno', 'shoegazing',\n",
       "       'skarock', 'bossa', 'salsa', 'latino', 'worldbeat', 'malaysian',\n",
       "       'baile', 'ghazal', 'loungeelectronic', 'arabic', 'popelectronic',\n",
       "       'acid', 'kayokyoku', 'neoklassik', 'tribal', 'tanzorchester',\n",
       "       'native', 'independent', 'cantautori', 'handsup', 'poprussian',\n",
       "       'punjabi', 'synthpop', 'rave', 'französisch', 'quebecois',\n",
       "       'speech', 'soulful', 'teen', 'jam', 'ram', 'horror', 'scenic',\n",
       "       'orchestral', 'neue', 'roots', 'slow', 'jungle', 'indipop', 'axé',\n",
       "       'fado', 'showtunes', 'arena', 'irish', 'mandopop', 'forró',\n",
       "       'popdance', 'dirty', 'regional'], dtype=object)"
      ]
     },
     "execution_count": 17,
     "metadata": {},
     "output_type": "execute_result"
    }
   ],
   "source": [
    "# Checking for Implicit Duplicates\n",
    "df[\"genre\"].unique()"
   ]
  },
  {
   "cell_type": "markdown",
   "metadata": {
    "id": "jz6a9-7HQUDd"
   },
   "source": [
    "**Findings**\n",
    "\n",
    "Preprocessing found three problems in the data:\n",
    "\n",
    "- headline style violations,\n",
    "- missing values,\n",
    "- duplicates - explicit and implicit.\n",
    "\n",
    "You've fixed the headers to make the table easier to work with. Without duplicates, the study will become more accurate.\n",
    "\n",
    "You have replaced missing values ​​with `'unknown'`. It remains to be seen whether the gaps in the `genre` column will harm the study.\n",
    "\n",
    "Now we can move on to hypothesis testing."
   ]
  },
  {
   "cell_type": "markdown",
   "metadata": {
    "id": "WttZHXH0SqKk"
   },
   "source": [
    "## Hypothesis testing"
   ]
  },
  {
   "cell_type": "markdown",
   "metadata": {
    "id": "Im936VVi_Zcu"
   },
   "source": [
    "### Comparison of user behavior of two capitals"
   ]
  },
  {
   "cell_type": "markdown",
   "metadata": {
    "id": "nwt_MuaL_Zcu"
   },
   "source": [
    "The first hypothesis states that users listen to music differently in Moscow and St. Petersburg. Check this assumption against the data on the three days of the week - Monday, Wednesday and Friday. For this:\n",
    "\n",
    "* Separate users of Moscow and St. Petersburg\n",
    "* Compare how many tracks each user group listened to on Monday, Wednesday and Friday.\n"
   ]
  },
  {
   "cell_type": "markdown",
   "metadata": {
    "id": "8Dw_YMmT_Zcu"
   },
   "source": [
    "For training, first perform each of the calculations separately.\n",
    "\n",
    "Estimate user activity in each city. Group the data by city and count the plays in each group.\n"
   ]
  },
  {
   "cell_type": "code",
   "execution_count": 18,
   "metadata": {
    "id": "0_Qs96oh_Zcu"
   },
   "outputs": [
    {
     "data": {
      "text/html": [
       "<div>\n",
       "<style scoped>\n",
       "    .dataframe tbody tr th:only-of-type {\n",
       "        vertical-align: middle;\n",
       "    }\n",
       "\n",
       "    .dataframe tbody tr th {\n",
       "        vertical-align: top;\n",
       "    }\n",
       "\n",
       "    .dataframe thead th {\n",
       "        text-align: right;\n",
       "    }\n",
       "</style>\n",
       "<table border=\"1\" class=\"dataframe\">\n",
       "  <thead>\n",
       "    <tr style=\"text-align: right;\">\n",
       "      <th></th>\n",
       "      <th>user_id</th>\n",
       "      <th>track</th>\n",
       "      <th>artist</th>\n",
       "      <th>genre</th>\n",
       "      <th>time</th>\n",
       "      <th>day</th>\n",
       "    </tr>\n",
       "    <tr>\n",
       "      <th>city</th>\n",
       "      <th></th>\n",
       "      <th></th>\n",
       "      <th></th>\n",
       "      <th></th>\n",
       "      <th></th>\n",
       "      <th></th>\n",
       "    </tr>\n",
       "  </thead>\n",
       "  <tbody>\n",
       "    <tr>\n",
       "      <td>Moscow</td>\n",
       "      <td>42741</td>\n",
       "      <td>42741</td>\n",
       "      <td>42741</td>\n",
       "      <td>42741</td>\n",
       "      <td>42741</td>\n",
       "      <td>42741</td>\n",
       "    </tr>\n",
       "    <tr>\n",
       "      <td>Saint-Petersburg</td>\n",
       "      <td>18512</td>\n",
       "      <td>18512</td>\n",
       "      <td>18512</td>\n",
       "      <td>18512</td>\n",
       "      <td>18512</td>\n",
       "      <td>18512</td>\n",
       "    </tr>\n",
       "  </tbody>\n",
       "</table>\n",
       "</div>"
      ],
      "text/plain": [
       "                  user_id  track  artist  genre   time    day\n",
       "city                                                         \n",
       "Moscow              42741  42741   42741  42741  42741  42741\n",
       "Saint-Petersburg    18512  18512   18512  18512  18512  18512"
      ]
     },
     "metadata": {},
     "output_type": "display_data"
    }
   ],
   "source": [
    "# Counting plays in each city\n",
    "c = df.groupby(\"city\").count()\n",
    "display(c)\n",
    "                             \n",
    "\n"
   ]
  },
  {
   "cell_type": "markdown",
   "metadata": {
    "id": "dzli3w8o_Zcu"
   },
   "source": [
    "There are more auditions in Moscow than in St. Petersburg. It does not follow from this that Moscow users listen to music more often. There are simply more users in Moscow.\n",
    "\n",
    "Now group the data by day of the week and count the plays on Monday, Wednesday, and Friday. Please note that the data only contains information about the plays for these days only.\n",
    "\n"
   ]
  },
  {
   "cell_type": "code",
   "execution_count": 19,
   "metadata": {
    "id": "uZMKjiJz_Zcu"
   },
   "outputs": [
    {
     "data": {
      "text/plain": [
       "day\n",
       "Friday       21840\n",
       "Monday       21354\n",
       "Wednesday    18059\n",
       "Name: city, dtype: int64"
      ]
     },
     "metadata": {},
     "output_type": "display_data"
    }
   ],
   "source": [
    "# Play count for each of the three days\n",
    "d = df.groupby(\"day\")[\"city\"].count()\n",
    "display(d)"
   ]
  },
  {
   "cell_type": "markdown",
   "metadata": {
    "id": "cC2tNrlL_Zcu"
   },
   "source": [
    "On average, users from the two cities are less active on Wednesdays. But the picture may change if we consider each city separately."
   ]
  },
  {
   "cell_type": "markdown",
   "metadata": {
    "id": "POzs8bGa_Zcu"
   },
   "source": [
    "You have seen how grouping by city and by day of the week works. Now write a function that combines these two calculations.\n",
    "\n",
    "Create a `number_tracks()` function that will count the plays for a given day and city. She needs two parameters:\n",
    "* day of the week,\n",
    "* city name.\n",
    "\n",
    "In the function, save to a variable the rows of the source table that have the value:\n",
    "  * in the `day` column is equal to the `day` parameter,\n",
    "  * in the `city` column is equal to the `city` parameter.\n",
    "\n",
    "To do this, apply sequential filtering with logical indexing.\n",
    "\n",
    "Then count the values ​​in the `user_id` column of the resulting table. Save the result to a new variable. Return this variable from the function."
   ]
  },
  {
   "cell_type": "code",
   "execution_count": 20,
   "metadata": {
    "id": "Nz3GdQB1_Zcu"
   },
   "outputs": [],
   "source": [
    "# <create number_tracks() function>\n",
    "# A function is declared with two parameters: day, city.\n",
    "# The track_list variable stores those rows of the df table for which\n",
    "# the value in the 'day' column is equal to the day parameter and at the same time the value\n",
    "# in the 'city' column is equal to the city parameter (use sequential filtering\n",
    "# using logical indexing).\n",
    "# The track_list_count variable stores the number of values ​​in the 'user_id' column,\n",
    "# calculated by the count() method for the track_list table.\n",
    "# The function returns a number - the value of track_list_count.\n",
    "\n",
    "# Function for counting plays for a specific city and day.\n",
    "# Using sequential filtering with logical indexing, it\n",
    "# first get the rows with the desired day from the source table,\n",
    "# then from the result it will filter the rows with the desired city,\n",
    "# the count() method will count the number of values ​​in the user_id column.\n",
    "# This is the number the function will return as a result\n",
    "def number_tracks(day, city):\n",
    "    track_list = df[(df[\"day\"] == day) & (df[\"city\"] == city)]\n",
    "    track_list_count = track_list[\"user_id\"].count()\n",
    "    return track_list_count\n",
    "        \n",
    "    "
   ]
  },
  {
   "cell_type": "markdown",
   "metadata": {
    "id": "ytf7xFrFJQ2r"
   },
   "source": [
    "Let's call `number_tracks()` six times, changing the value of the parameters so that we get data for each city on each of the three days."
   ]
  },
  {
   "cell_type": "code",
   "execution_count": 21,
   "metadata": {
    "id": "rJcRATNQ_Zcu"
   },
   "outputs": [
    {
     "data": {
      "text/plain": [
       "15740"
      ]
     },
     "execution_count": 21,
     "metadata": {},
     "output_type": "execute_result"
    }
   ],
   "source": [
    "# number of auditions in Moscow on Mondays\n",
    "number_tracks( \"Monday\", \"Moscow\")"
   ]
  },
  {
   "cell_type": "code",
   "execution_count": 22,
   "metadata": {
    "id": "hq_ncZ5T_Zcu"
   },
   "outputs": [
    {
     "data": {
      "text/plain": [
       "5614"
      ]
     },
     "execution_count": 22,
     "metadata": {},
     "output_type": "execute_result"
    }
   ],
   "source": [
    "\n",
    "number_tracks( \"Monday\", \"Saint-Petersburg\")"
   ]
  },
  {
   "cell_type": "code",
   "execution_count": 23,
   "metadata": {
    "id": "_NTy2VPU_Zcu"
   },
   "outputs": [
    {
     "data": {
      "text/plain": [
       "11056"
      ]
     },
     "execution_count": 23,
     "metadata": {},
     "output_type": "execute_result"
    }
   ],
   "source": [
    "\n",
    "number_tracks( \"Wednesday\", \"Moscow\")"
   ]
  },
  {
   "cell_type": "code",
   "execution_count": 24,
   "metadata": {
    "id": "j2y3TAwo_Zcu"
   },
   "outputs": [
    {
     "data": {
      "text/plain": [
       "7003"
      ]
     },
     "execution_count": 24,
     "metadata": {},
     "output_type": "execute_result"
    }
   ],
   "source": [
    "\n",
    "number_tracks( \"Wednesday\", \"Saint-Petersburg\")"
   ]
  },
  {
   "cell_type": "code",
   "execution_count": 25,
   "metadata": {
    "id": "vYDw5u_K_Zcu"
   },
   "outputs": [
    {
     "data": {
      "text/plain": [
       "15945"
      ]
     },
     "execution_count": 25,
     "metadata": {},
     "output_type": "execute_result"
    }
   ],
   "source": [
    "\n",
    "number_tracks( \"Friday\", \"Moscow\")"
   ]
  },
  {
   "cell_type": "code",
   "execution_count": 26,
   "metadata": {
    "id": "8_yzFtW3_Zcu"
   },
   "outputs": [
    {
     "data": {
      "text/plain": [
       "5895"
      ]
     },
     "execution_count": 26,
     "metadata": {},
     "output_type": "execute_result"
    }
   ],
   "source": [
    "\n",
    "number_tracks( \"Friday\", \"Saint-Petersburg\")"
   ]
  },
  {
   "cell_type": "markdown",
   "metadata": {
    "id": "7QXffbO-_Zcu"
   },
   "source": [
    "Create a table using the `pd.DataFrame` constructor, where\n",
    "* column names - `['city', 'monday', 'wednesday', 'friday']`;\n",
    "* data is the results you got with `number_tracks`."
   ]
  },
  {
   "cell_type": "code",
   "execution_count": 27,
   "metadata": {
    "id": "APAcLpOr_Zcu"
   },
   "outputs": [
    {
     "data": {
      "text/html": [
       "<div>\n",
       "<style scoped>\n",
       "    .dataframe tbody tr th:only-of-type {\n",
       "        vertical-align: middle;\n",
       "    }\n",
       "\n",
       "    .dataframe tbody tr th {\n",
       "        vertical-align: top;\n",
       "    }\n",
       "\n",
       "    .dataframe thead th {\n",
       "        text-align: right;\n",
       "    }\n",
       "</style>\n",
       "<table border=\"1\" class=\"dataframe\">\n",
       "  <thead>\n",
       "    <tr style=\"text-align: right;\">\n",
       "      <th></th>\n",
       "      <th>city</th>\n",
       "      <th>monday</th>\n",
       "      <th>wednesday</th>\n",
       "      <th>friday</th>\n",
       "    </tr>\n",
       "  </thead>\n",
       "  <tbody>\n",
       "    <tr>\n",
       "      <td>0</td>\n",
       "      <td>Moscow</td>\n",
       "      <td>15740</td>\n",
       "      <td>11056</td>\n",
       "      <td>15945</td>\n",
       "    </tr>\n",
       "    <tr>\n",
       "      <td>1</td>\n",
       "      <td>Saint-Petersburg</td>\n",
       "      <td>5614</td>\n",
       "      <td>7003</td>\n",
       "      <td>5895</td>\n",
       "    </tr>\n",
       "  </tbody>\n",
       "</table>\n",
       "</div>"
      ],
      "text/plain": [
       "               city  monday  wednesday  friday\n",
       "0            Moscow   15740      11056   15945\n",
       "1  Saint-Petersburg    5614       7003    5895"
      ]
     },
     "metadata": {},
     "output_type": "display_data"
    }
   ],
   "source": [
    "# Table with results\n",
    "columns = ['city', 'monday', 'wednesday', 'friday']\n",
    "data = [[\"Moscow\", 15740, 11056, 15945],\n",
    "        [\"Saint-Petersburg\",5614, 7003, 5895]]\n",
    "info = pd.DataFrame(data=data, columns = columns)\n",
    "display(info)"
   ]
  },
  {
   "cell_type": "markdown",
   "metadata": {
    "id": "-EgPIHYu_Zcu"
   },
   "source": [
    "**Findings**\n",
    "\n",
    "The data shows the difference in user behavior:\n",
    "\n",
    "- In Moscow, the peak of listening falls on Monday and Friday, and on Wednesday there is a noticeable decline.\n",
    "- In St. Petersburg, on the contrary, they listen to music more on Wednesdays. Activity on Monday and Friday here is almost equally inferior to Wednesday.\n",
    "\n",
    "So the data support the first hypothesis."
   ]
  },
  {
   "cell_type": "markdown",
   "metadata": {
    "id": "atZAxtq4_Zcu"
   },
   "source": [
    "### Music at the beginning and end of the week"
   ]
  },
  {
   "cell_type": "markdown",
   "metadata": {
    "id": "eXrQqXFH_Zcu"
   },
   "source": [
    "According to the second hypothesis, on Monday morning certain genres predominate in Moscow, while others dominate in St. Petersburg. Similarly, Friday evenings are dominated by different genres, depending on the city."
   ]
  },
  {
   "cell_type": "markdown",
   "metadata": {
    "id": "S8UcW6Hw_Zcu"
   },
   "source": [
    "Save tables with data in two variables:\n",
    "* in Moscow - in `moscow_general`;\n",
    "* in St. Petersburg - in `spb_general`."
   ]
  },
  {
   "cell_type": "code",
   "execution_count": 28,
   "metadata": {
    "id": "qeaFfM_P_Zcu"
   },
   "outputs": [
    {
     "data": {
      "text/html": [
       "<div>\n",
       "<style scoped>\n",
       "    .dataframe tbody tr th:only-of-type {\n",
       "        vertical-align: middle;\n",
       "    }\n",
       "\n",
       "    .dataframe tbody tr th {\n",
       "        vertical-align: top;\n",
       "    }\n",
       "\n",
       "    .dataframe thead th {\n",
       "        text-align: right;\n",
       "    }\n",
       "</style>\n",
       "<table border=\"1\" class=\"dataframe\">\n",
       "  <thead>\n",
       "    <tr style=\"text-align: right;\">\n",
       "      <th></th>\n",
       "      <th>user_id</th>\n",
       "      <th>track</th>\n",
       "      <th>artist</th>\n",
       "      <th>genre</th>\n",
       "      <th>city</th>\n",
       "      <th>time</th>\n",
       "      <th>day</th>\n",
       "    </tr>\n",
       "  </thead>\n",
       "  <tbody>\n",
       "    <tr>\n",
       "      <td>1</td>\n",
       "      <td>55204538</td>\n",
       "      <td>Delayed Because of Accident</td>\n",
       "      <td>Andreas Rönnberg</td>\n",
       "      <td>rock</td>\n",
       "      <td>Moscow</td>\n",
       "      <td>14:07:09</td>\n",
       "      <td>Friday</td>\n",
       "    </tr>\n",
       "    <tr>\n",
       "      <td>4</td>\n",
       "      <td>E2DC1FAE</td>\n",
       "      <td>Soul People</td>\n",
       "      <td>Space Echo</td>\n",
       "      <td>dance</td>\n",
       "      <td>Moscow</td>\n",
       "      <td>08:34:34</td>\n",
       "      <td>Monday</td>\n",
       "    </tr>\n",
       "    <tr>\n",
       "      <td>6</td>\n",
       "      <td>4CB90AA5</td>\n",
       "      <td>True</td>\n",
       "      <td>Roman Messer</td>\n",
       "      <td>dance</td>\n",
       "      <td>Moscow</td>\n",
       "      <td>13:00:07</td>\n",
       "      <td>Wednesday</td>\n",
       "    </tr>\n",
       "    <tr>\n",
       "      <td>7</td>\n",
       "      <td>F03E1C1F</td>\n",
       "      <td>Feeling This Way</td>\n",
       "      <td>Polina Griffith</td>\n",
       "      <td>dance</td>\n",
       "      <td>Moscow</td>\n",
       "      <td>20:47:49</td>\n",
       "      <td>Wednesday</td>\n",
       "    </tr>\n",
       "    <tr>\n",
       "      <td>8</td>\n",
       "      <td>8FA1D3BE</td>\n",
       "      <td>И вновь продолжается бой</td>\n",
       "      <td>unknown</td>\n",
       "      <td>ruspop</td>\n",
       "      <td>Moscow</td>\n",
       "      <td>09:17:40</td>\n",
       "      <td>Friday</td>\n",
       "    </tr>\n",
       "  </tbody>\n",
       "</table>\n",
       "</div>"
      ],
      "text/plain": [
       "    user_id                        track            artist   genre    city  \\\n",
       "1  55204538  Delayed Because of Accident  Andreas Rönnberg    rock  Moscow   \n",
       "4  E2DC1FAE                  Soul People        Space Echo   dance  Moscow   \n",
       "6  4CB90AA5                         True      Roman Messer   dance  Moscow   \n",
       "7  F03E1C1F             Feeling This Way   Polina Griffith   dance  Moscow   \n",
       "8  8FA1D3BE     И вновь продолжается бой           unknown  ruspop  Moscow   \n",
       "\n",
       "       time        day  \n",
       "1  14:07:09     Friday  \n",
       "4  08:34:34     Monday  \n",
       "6  13:00:07  Wednesday  \n",
       "7  20:47:49  Wednesday  \n",
       "8  09:17:40     Friday  "
      ]
     },
     "execution_count": 28,
     "metadata": {},
     "output_type": "execute_result"
    }
   ],
   "source": [
    "# getting the moscow_general table from those rows of the df table,\n",
    "# for which the value in the 'city' column is 'Moscow'\n",
    "moscow_general = df[df[\"city\"] == \"Moscow\"]\n",
    "moscow_general.head()"
   ]
  },
  {
   "cell_type": "code",
   "execution_count": 29,
   "metadata": {
    "id": "ORaVRKto_Zcu"
   },
   "outputs": [
    {
     "data": {
      "text/html": [
       "<div>\n",
       "<style scoped>\n",
       "    .dataframe tbody tr th:only-of-type {\n",
       "        vertical-align: middle;\n",
       "    }\n",
       "\n",
       "    .dataframe tbody tr th {\n",
       "        vertical-align: top;\n",
       "    }\n",
       "\n",
       "    .dataframe thead th {\n",
       "        text-align: right;\n",
       "    }\n",
       "</style>\n",
       "<table border=\"1\" class=\"dataframe\">\n",
       "  <thead>\n",
       "    <tr style=\"text-align: right;\">\n",
       "      <th></th>\n",
       "      <th>user_id</th>\n",
       "      <th>track</th>\n",
       "      <th>artist</th>\n",
       "      <th>genre</th>\n",
       "      <th>city</th>\n",
       "      <th>time</th>\n",
       "      <th>day</th>\n",
       "    </tr>\n",
       "  </thead>\n",
       "  <tbody>\n",
       "    <tr>\n",
       "      <td>0</td>\n",
       "      <td>FFB692EC</td>\n",
       "      <td>Kamigata To Boots</td>\n",
       "      <td>The Mass Missile</td>\n",
       "      <td>rock</td>\n",
       "      <td>Saint-Petersburg</td>\n",
       "      <td>20:28:33</td>\n",
       "      <td>Wednesday</td>\n",
       "    </tr>\n",
       "    <tr>\n",
       "      <td>2</td>\n",
       "      <td>20EC38</td>\n",
       "      <td>Funiculì funiculà</td>\n",
       "      <td>Mario Lanza</td>\n",
       "      <td>pop</td>\n",
       "      <td>Saint-Petersburg</td>\n",
       "      <td>20:58:07</td>\n",
       "      <td>Wednesday</td>\n",
       "    </tr>\n",
       "    <tr>\n",
       "      <td>3</td>\n",
       "      <td>A3DD03C9</td>\n",
       "      <td>Dragons in the Sunset</td>\n",
       "      <td>Fire + Ice</td>\n",
       "      <td>folk</td>\n",
       "      <td>Saint-Petersburg</td>\n",
       "      <td>08:37:09</td>\n",
       "      <td>Monday</td>\n",
       "    </tr>\n",
       "    <tr>\n",
       "      <td>5</td>\n",
       "      <td>842029A1</td>\n",
       "      <td>Преданная</td>\n",
       "      <td>IMPERVTOR</td>\n",
       "      <td>rusrap</td>\n",
       "      <td>Saint-Petersburg</td>\n",
       "      <td>13:09:41</td>\n",
       "      <td>Friday</td>\n",
       "    </tr>\n",
       "    <tr>\n",
       "      <td>9</td>\n",
       "      <td>E772D5C0</td>\n",
       "      <td>Pessimist</td>\n",
       "      <td>unknown</td>\n",
       "      <td>dance</td>\n",
       "      <td>Saint-Petersburg</td>\n",
       "      <td>21:20:49</td>\n",
       "      <td>Wednesday</td>\n",
       "    </tr>\n",
       "  </tbody>\n",
       "</table>\n",
       "</div>"
      ],
      "text/plain": [
       "    user_id                  track            artist   genre  \\\n",
       "0  FFB692EC      Kamigata To Boots  The Mass Missile    rock   \n",
       "2    20EC38      Funiculì funiculà       Mario Lanza     pop   \n",
       "3  A3DD03C9  Dragons in the Sunset        Fire + Ice    folk   \n",
       "5  842029A1              Преданная         IMPERVTOR  rusrap   \n",
       "9  E772D5C0              Pessimist           unknown   dance   \n",
       "\n",
       "               city      time        day  \n",
       "0  Saint-Petersburg  20:28:33  Wednesday  \n",
       "2  Saint-Petersburg  20:58:07  Wednesday  \n",
       "3  Saint-Petersburg  08:37:09     Monday  \n",
       "5  Saint-Petersburg  13:09:41     Friday  \n",
       "9  Saint-Petersburg  21:20:49  Wednesday  "
      ]
     },
     "execution_count": 29,
     "metadata": {},
     "output_type": "execute_result"
    }
   ],
   "source": [
    "# getting the spb_general table from those rows of the df table,\n",
    "# for which the value in the 'city' column is 'Saint-Petersburg'\n",
    "spb_general = df[df[\"city\"] == \"Saint-Petersburg\"]\n",
    "spb_general.head()"
   ]
  },
  {
   "cell_type": "markdown",
   "metadata": {
    "id": "MEJV-CX2_Zcu"
   },
   "source": [
    "Let's create a function `genre_weekday()` with four parameters:\n",
    "* table (dataframe) with data,\n",
    "* day of the week,\n",
    "* start timestamp in 'hh:mm' format,\n",
    "* last timestamp in 'hh:mm' format.\n",
    "\n",
    "The function should return information about the top 10 genres of those tracks that were listened to on the specified day, in the interval between two timestamps."
   ]
  },
  {
   "cell_type": "code",
   "execution_count": 30,
   "metadata": {
    "id": "laJT9BYl_Zcu"
   },
   "outputs": [],
   "source": [
    "# Declaring the function genre_weekday() with parameters table, day, time1, time2,\n",
    "# which returns information about the most popular genres on the specified day in\n",
    "# given time:\n",
    "# 1) the genre_df variable saves those rows of the transmitted dataframe table, for\n",
    "# of which at the same time:\n",
    "# - the value in the day column is equal to the value of the day argument\n",
    "# - the value in the time column is greater than the value of the time1 argument\n",
    "# - the value in the time column is less than the value of the time2 argument\n",
    "# Use sequential filtering with boolean indexing.\n",
    "# 2) group dataframe genre_df by genre column, take one of its\n",
    "# columns and use the count() method to count the number of entries for each\n",
    "# of present genres, write the resulting Series to a variable\n",
    "#genre_df_count\n",
    "# 3) sort genre_df_count in descending order of occurrence and save\n",
    "# into the genre_df_sorted variable\n",
    "# 4) return a Series of the first 10 genre_df_sorted values, these will be the top 10\n",
    "# popular genres (on the specified day, at the specified time)\n",
    "def genre_weekday(df , day, time1, time2):\n",
    "    genre_df = df[(df[\"day\"] ==day) & (df[\"time\"] > time1) & (df[\"time\"] <= time2)]\n",
    "    \n",
    "    genre_df_sorted  = genre_df.groupby(\"genre\")[\"genre\"].count().sort_values(ascending = False).head(10)\n",
    "    \n",
    "    \n",
    "    return genre_df_sorted\n",
    "    \n",
    "        "
   ]
  },
  {
   "cell_type": "markdown",
   "metadata": {
    "id": "la2s2_PF_Zcu"
   },
   "source": [
    "Compare the results of the `genre_weekday()` function for Moscow and St. Petersburg on Monday morning (from 7:00 to 11:00) and Friday evening (from 17:00 to 23:00):"
   ]
  },
  {
   "cell_type": "code",
   "execution_count": 31,
   "metadata": {
    "id": "yz7itPUQ_Zcu"
   },
   "outputs": [
    {
     "data": {
      "text/plain": [
       "genre\n",
       "pop            781\n",
       "dance          549\n",
       "electronic     480\n",
       "rock           474\n",
       "hiphop         286\n",
       "ruspop         186\n",
       "world          181\n",
       "rusrap         175\n",
       "alternative    164\n",
       "unknown        161\n",
       "Name: genre, dtype: int64"
      ]
     },
     "execution_count": 31,
     "metadata": {},
     "output_type": "execute_result"
    }
   ],
   "source": [
    "# function call for Monday morning in Moscow (instead of df — moscow_general table)\n",
    "# time objects are strings and are compared as strings\n",
    "# call example: genre_weekday(moscow_general, 'Monday', '07:00', '11:00')\n",
    "genre_weekday(moscow_general, 'Monday', '07:00', '11:00')\n"
   ]
  },
  {
   "cell_type": "code",
   "execution_count": 32,
   "metadata": {
    "id": "kwUcHPdy_Zcu"
   },
   "outputs": [
    {
     "data": {
      "text/plain": [
       "genre\n",
       "pop            218\n",
       "dance          182\n",
       "rock           162\n",
       "electronic     147\n",
       "hiphop          80\n",
       "ruspop          64\n",
       "alternative     58\n",
       "rusrap          55\n",
       "jazz            44\n",
       "classical       40\n",
       "Name: genre, dtype: int64"
      ]
     },
     "execution_count": 32,
     "metadata": {},
     "output_type": "execute_result"
    }
   ],
   "source": [
    "\n",
    "genre_weekday(spb_general, 'Monday', '07:00', '11:00')"
   ]
  },
  {
   "cell_type": "code",
   "execution_count": 33,
   "metadata": {
    "id": "EzXVRE1o_Zcu"
   },
   "outputs": [
    {
     "data": {
      "text/plain": [
       "genre\n",
       "pop            713\n",
       "rock           517\n",
       "dance          495\n",
       "electronic     482\n",
       "hiphop         273\n",
       "world          208\n",
       "ruspop         170\n",
       "alternative    163\n",
       "classical      163\n",
       "rusrap         142\n",
       "Name: genre, dtype: int64"
      ]
     },
     "execution_count": 33,
     "metadata": {},
     "output_type": "execute_result"
    }
   ],
   "source": [
    "\n",
    "genre_weekday(moscow_general, 'Friday', '18:00', '23:00')"
   ]
  },
  {
   "cell_type": "code",
   "execution_count": 34,
   "metadata": {
    "id": "JZaEKu5v_Zcu"
   },
   "outputs": [
    {
     "data": {
      "text/plain": [
       "genre\n",
       "pop            256\n",
       "rock           216\n",
       "electronic     216\n",
       "dance          210\n",
       "hiphop          97\n",
       "alternative     63\n",
       "jazz            61\n",
       "classical       60\n",
       "rusrap          59\n",
       "world           54\n",
       "Name: genre, dtype: int64"
      ]
     },
     "execution_count": 34,
     "metadata": {},
     "output_type": "execute_result"
    }
   ],
   "source": [
    "\n",
    "genre_weekday(spb_general, 'Friday', '18:00', '23:00')"
   ]
  },
  {
   "cell_type": "markdown",
   "metadata": {
    "id": "wrCe4MNX_Zcu"
   },
   "source": [
    "**Findings**\n",
    "\n",
    "If we compare the top 10 genres on Monday morning, we can draw the following conclusions:\n",
    "\n",
    "1. In Moscow and St. Petersburg they listen to similar music. The only difference is that the Moscow rating includes the “world” genre, while the St. Petersburg rating includes jazz and classical.\n",
    "\n",
    "2. There were so many missing values ​​in Moscow that the value `'unknown'` took tenth place among the most popular genres. This means that missing values ​​occupy a significant share in the data and threaten the reliability of the study.\n",
    "\n",
    "Friday night does not change this picture. Some genres rise a little higher, others go down, but overall the top 10 stays the same.\n",
    "\n",
    "Thus, the second hypothesis was only partially confirmed:\n",
    "* Users listen to similar music at the beginning of the week and at the end.\n",
    "* The difference between Moscow and St. Petersburg is not very pronounced. In Moscow, they listen to Russian popular music more often, in St. Petersburg - jazz.\n",
    "\n",
    "However, gaps in the data cast doubt on this result. There are so many of them in Moscow that the top 10 ranking could look different if it were not for the lost genre data."
   ]
  },
  {
   "cell_type": "markdown",
   "metadata": {
    "id": "JolODAqr_Zcu"
   },
   "source": [
    "### Genre preferences in Moscow and St. Petersburg\n",
    "\n",
    "Hypothesis: St. Petersburg is the capital of rap, the music of this genre is listened to more often than in Moscow. And Moscow is a city of contrasts, which, nevertheless, is dominated by pop music."
   ]
  },
  {
   "cell_type": "markdown",
   "metadata": {
    "id": "DlegSvaT_Zcu"
   },
   "source": [
    "Let's group the `moscow_general` table by genre and count the listens of tracks of each genre using the `count()` method. Then sort the result in descending order and store it in the `moscow_genres` table."
   ]
  },
  {
   "cell_type": "code",
   "execution_count": null,
   "metadata": {},
   "outputs": [],
   "source": [
    "# in one line: grouping the moscow_general table by the 'genre' column,\n",
    "# counting the number of 'genre' values ​​in this grouping using the count() method,\n",
    "# sort the resulting Series in descending order and save to moscow_genres\n",
    "moscow_genres = moscow_general.groupby(\"genre\")[\"genre\"].count().sort_values(ascending=False)\n"
   ]
  },
  {
   "cell_type": "markdown",
   "metadata": {
    "id": "6kMuomxTiIr8"
   },
   "source": [
    "Let's display the first ten lines of `moscow_genres`:"
   ]
  },
  {
   "cell_type": "code",
   "execution_count": 36,
   "metadata": {
    "id": "WhCSooF8_Zcv"
   },
   "outputs": [
    {
     "data": {
      "text/plain": [
       "genre\n",
       "pop            5892\n",
       "dance          4435\n",
       "rock           3965\n",
       "electronic     3786\n",
       "hiphop         2096\n",
       "classical      1616\n",
       "world          1432\n",
       "alternative    1379\n",
       "ruspop         1372\n",
       "rusrap         1161\n",
       "Name: genre, dtype: int64"
      ]
     },
     "execution_count": 36,
     "metadata": {},
     "output_type": "execute_result"
    }
   ],
   "source": [
    "moscow_genres.head(10)"
   ]
  },
  {
   "cell_type": "markdown",
   "metadata": {
    "id": "cnPG2vnN_Zcv"
   },
   "source": [
    "Now let's repeat the same for St. Petersburg.\n",
    "\n",
    "Group the `spb_general` table by genre. Count the number of listens to tracks of each genre. Sort the result in descending order and store it in the `spb_genres` table:\n"
   ]
  },
  {
   "cell_type": "code",
   "execution_count": 37,
   "metadata": {
    "id": "gluLIpE7_Zcv"
   },
   "outputs": [],
   "source": [
    "# in one line: group spb_general table by 'genre' column,\n",
    "# counting the number of 'genre' values ​​in this grouping using the count() method,\n",
    "# sort the resulting Series in descending order and store it in spb_genres\n",
    "spb_genres = spb_general.groupby(\"genre\")[\"genre\"].count().sort_values(ascending=False)"
   ]
  },
  {
   "cell_type": "markdown",
   "metadata": {
    "id": "5Doha_ODgyQ8"
   },
   "source": [
    "Print the first ten lines of `spb_genres` to the screen:"
   ]
  },
  {
   "cell_type": "code",
   "execution_count": 38,
   "metadata": {
    "id": "uaGJHjVU_Zcv"
   },
   "outputs": [
    {
     "data": {
      "text/plain": [
       "genre\n",
       "pop            2431\n",
       "dance          1932\n",
       "rock           1879\n",
       "electronic     1736\n",
       "hiphop          960\n",
       "alternative     649\n",
       "classical       646\n",
       "rusrap          564\n",
       "ruspop          538\n",
       "world           515\n",
       "Name: genre, dtype: int64"
      ]
     },
     "execution_count": 38,
     "metadata": {},
     "output_type": "execute_result"
    }
   ],
   "source": [
    "spb_genres.head(10)"
   ]
  },
  {
   "cell_type": "markdown",
   "metadata": {
    "id": "RY51YJYu_Zcv"
   },
   "source": [
    "**Findings**"
   ]
  },
  {
   "cell_type": "markdown",
   "metadata": {
    "id": "nVhnJEm__Zcv"
   },
   "source": [
    "The hypothesis was partially confirmed:\n",
    "* Pop music is the most popular genre in Moscow, as the hypothesis suggested. Moreover, in the top 10 genres there is a close genre - Russian popular music.\n",
    "* Contrary to expectations, rap is equally popular in Moscow and St. Petersburg."
   ]
  },
  {
   "cell_type": "markdown",
   "metadata": {
    "id": "ykKQ0N65_Zcv"
   },
   "source": [
    "## CONCLUSION"
   ]
  },
  {
   "cell_type": "markdown",
   "metadata": {
    "id": "tjUwbHb3_Zcv"
   },
   "source": [
    "We tested three hypotheses and found:\n",
    "\n",
    "1. The day of the week has a different effect on the activity of users in Moscow and St. Petersburg.\n",
    "\n",
    "The first hypothesis was fully confirmed.\n",
    "\n",
    "2. Musical preferences do not change much during the week - be it Moscow or St. Petersburg. Small differences are noticeable at the beginning of the week, on Mondays:\n",
    "* in Moscow they listen to music of the “world” genre,\n",
    "* in St. Petersburg - jazz and classical music.\n",
    "\n",
    "Thus, the second hypothesis was only partly confirmed. This result could have been different were it not for gaps in the data.\n",
    "\n",
    "3. The tastes of users of Moscow and St. Petersburg have more in common than differences. Contrary to expectations, genre preferences in St. Petersburg resemble those in Moscow.\n",
    "\n",
    "The third hypothesis was not confirmed. If there are differences in preferences, they are invisible to the bulk of users.\n",
    "\n",
    "**In practice, studies contain tests of statistical hypotheses.**\n",
    "From the data of one service, it is not always possible to draw a conclusion about all the inhabitants of the city.\n",
    "Tests of statistical hypotheses will show how reliable they are, based on the available data.\n",
    "You will learn more about hypothesis testing methods in the following topics."
   ]
  },
  {
   "cell_type": "code",
   "execution_count": null,
   "metadata": {},
   "outputs": [],
   "source": []
  },
  {
   "cell_type": "code",
   "execution_count": null,
   "metadata": {},
   "outputs": [],
   "source": []
  }
 ],
 "metadata": {
  "ExecuteTimeLog": [
   {
    "duration": 373,
    "start_time": "2021-10-13T11:14:32.053Z"
   },
   {
    "duration": 845,
    "start_time": "2021-10-13T11:14:36.389Z"
   },
   {
    "duration": 362,
    "start_time": "2021-10-13T11:14:38.911Z"
   },
   {
    "duration": 2447,
    "start_time": "2021-10-13T11:14:51.604Z"
   },
   {
    "duration": 367,
    "start_time": "2021-10-13T11:15:09.505Z"
   },
   {
    "duration": 110,
    "start_time": "2021-10-13T11:17:59.773Z"
   },
   {
    "duration": 186,
    "start_time": "2021-10-13T11:18:20.099Z"
   },
   {
    "duration": 296,
    "start_time": "2021-10-13T11:18:30.262Z"
   },
   {
    "duration": 182,
    "start_time": "2021-10-13T11:18:58.175Z"
   },
   {
    "duration": 4,
    "start_time": "2021-10-13T11:18:59.886Z"
   },
   {
    "duration": 16,
    "start_time": "2021-10-13T11:19:06.668Z"
   },
   {
    "duration": 33,
    "start_time": "2021-10-13T11:20:14.788Z"
   },
   {
    "duration": 5,
    "start_time": "2021-10-13T11:31:17.936Z"
   },
   {
    "duration": 6,
    "start_time": "2021-10-13T11:31:25.903Z"
   },
   {
    "duration": 5,
    "start_time": "2021-10-13T11:31:36.671Z"
   },
   {
    "duration": 23,
    "start_time": "2021-10-13T11:34:43.021Z"
   },
   {
    "duration": 15,
    "start_time": "2021-10-13T11:34:54.239Z"
   },
   {
    "duration": 20,
    "start_time": "2021-10-13T11:35:08.403Z"
   },
   {
    "duration": 22,
    "start_time": "2021-10-13T11:35:12.859Z"
   },
   {
    "duration": 13,
    "start_time": "2021-10-13T11:35:13.719Z"
   },
   {
    "duration": 15,
    "start_time": "2021-10-13T11:35:36.957Z"
   },
   {
    "duration": 14,
    "start_time": "2021-10-13T11:35:37.770Z"
   },
   {
    "duration": 21,
    "start_time": "2021-10-13T11:35:40.864Z"
   },
   {
    "duration": 14,
    "start_time": "2021-10-13T11:35:41.495Z"
   },
   {
    "duration": 18,
    "start_time": "2021-10-13T11:36:05.859Z"
   },
   {
    "duration": 14,
    "start_time": "2021-10-13T11:36:06.302Z"
   },
   {
    "duration": 22,
    "start_time": "2021-10-13T11:36:12.211Z"
   },
   {
    "duration": 18,
    "start_time": "2021-10-13T11:36:12.579Z"
   },
   {
    "duration": 21,
    "start_time": "2021-10-13T11:36:21.698Z"
   },
   {
    "duration": 14,
    "start_time": "2021-10-13T11:36:22.297Z"
   },
   {
    "duration": 3,
    "start_time": "2021-10-13T11:36:29.280Z"
   },
   {
    "duration": 14,
    "start_time": "2021-10-13T11:36:30.059Z"
   },
   {
    "duration": 3,
    "start_time": "2021-10-13T11:36:36.140Z"
   },
   {
    "duration": 3,
    "start_time": "2021-10-13T11:36:36.899Z"
   },
   {
    "duration": 21,
    "start_time": "2021-10-13T11:36:40.167Z"
   },
   {
    "duration": 16,
    "start_time": "2021-10-13T11:36:46.705Z"
   },
   {
    "duration": 19,
    "start_time": "2021-10-13T11:37:03.081Z"
   },
   {
    "duration": 14,
    "start_time": "2021-10-13T11:37:03.935Z"
   },
   {
    "duration": 22,
    "start_time": "2021-10-13T11:38:00.661Z"
   },
   {
    "duration": 15,
    "start_time": "2021-10-13T11:38:01.789Z"
   },
   {
    "duration": 21,
    "start_time": "2021-10-13T11:39:11.887Z"
   },
   {
    "duration": 15,
    "start_time": "2021-10-13T11:39:12.430Z"
   },
   {
    "duration": 319,
    "start_time": "2021-10-13T11:39:17.651Z"
   },
   {
    "duration": 14,
    "start_time": "2021-10-13T11:39:19.233Z"
   },
   {
    "duration": 4,
    "start_time": "2021-10-13T11:39:34.318Z"
   },
   {
    "duration": 177,
    "start_time": "2021-10-13T11:39:35.617Z"
   },
   {
    "duration": 15,
    "start_time": "2021-10-13T11:39:37.821Z"
   },
   {
    "duration": 35,
    "start_time": "2021-10-13T11:39:41.333Z"
   },
   {
    "duration": 5,
    "start_time": "2021-10-13T11:39:44.948Z"
   },
   {
    "duration": 26,
    "start_time": "2021-10-13T11:39:47.703Z"
   },
   {
    "duration": 15,
    "start_time": "2021-10-13T11:39:49.550Z"
   },
   {
    "duration": 3,
    "start_time": "2021-10-13T11:40:03.516Z"
   },
   {
    "duration": 183,
    "start_time": "2021-10-13T11:40:03.941Z"
   },
   {
    "duration": 16,
    "start_time": "2021-10-13T11:40:04.336Z"
   },
   {
    "duration": 30,
    "start_time": "2021-10-13T11:40:04.891Z"
   },
   {
    "duration": 4,
    "start_time": "2021-10-13T11:40:06.555Z"
   },
   {
    "duration": 25,
    "start_time": "2021-10-13T11:40:07.380Z"
   },
   {
    "duration": 15,
    "start_time": "2021-10-13T11:40:07.669Z"
   },
   {
    "duration": 3,
    "start_time": "2021-10-13T11:40:27.120Z"
   },
   {
    "duration": 241,
    "start_time": "2021-10-13T11:40:27.509Z"
   },
   {
    "duration": 16,
    "start_time": "2021-10-13T11:40:28.455Z"
   },
   {
    "duration": 30,
    "start_time": "2021-10-13T11:40:28.967Z"
   },
   {
    "duration": 5,
    "start_time": "2021-10-13T11:40:30.714Z"
   },
   {
    "duration": 23,
    "start_time": "2021-10-13T11:40:31.522Z"
   },
   {
    "duration": 14,
    "start_time": "2021-10-13T11:40:32.391Z"
   },
   {
    "duration": 21,
    "start_time": "2021-10-13T11:40:53.453Z"
   },
   {
    "duration": 15,
    "start_time": "2021-10-13T11:40:54.144Z"
   },
   {
    "duration": 32,
    "start_time": "2021-10-13T11:41:36.322Z"
   },
   {
    "duration": 6,
    "start_time": "2021-10-13T11:42:20.190Z"
   },
   {
    "duration": 548,
    "start_time": "2021-10-13T11:42:53.406Z"
   },
   {
    "duration": 319,
    "start_time": "2021-10-13T11:42:54.116Z"
   },
   {
    "duration": 325,
    "start_time": "2021-10-13T11:43:03.852Z"
   },
   {
    "duration": 323,
    "start_time": "2021-10-13T11:43:11.892Z"
   },
   {
    "duration": 3,
    "start_time": "2021-10-13T11:43:19.893Z"
   },
   {
    "duration": 185,
    "start_time": "2021-10-13T11:43:20.350Z"
   },
   {
    "duration": 16,
    "start_time": "2021-10-13T11:43:20.933Z"
   },
   {
    "duration": 31,
    "start_time": "2021-10-13T11:43:21.443Z"
   },
   {
    "duration": 4,
    "start_time": "2021-10-13T11:43:23.136Z"
   },
   {
    "duration": 25,
    "start_time": "2021-10-13T11:43:24.654Z"
   },
   {
    "duration": 14,
    "start_time": "2021-10-13T11:43:26.071Z"
   },
   {
    "duration": 339,
    "start_time": "2021-10-13T11:43:29.012Z"
   },
   {
    "duration": 31,
    "start_time": "2021-10-13T11:43:56.958Z"
   },
   {
    "duration": 10265,
    "start_time": "2021-10-13T12:02:19.614Z"
   },
   {
    "duration": 18,
    "start_time": "2021-10-13T12:03:51.752Z"
   },
   {
    "duration": 14,
    "start_time": "2021-10-13T12:03:53.023Z"
   },
   {
    "duration": 30,
    "start_time": "2021-10-13T12:03:54.861Z"
   },
   {
    "duration": 9167,
    "start_time": "2021-10-13T12:03:56.498Z"
   },
   {
    "duration": 27,
    "start_time": "2021-10-13T12:04:13.171Z"
   },
   {
    "duration": 28,
    "start_time": "2021-10-13T12:04:16.172Z"
   },
   {
    "duration": 35,
    "start_time": "2021-10-13T12:04:26.089Z"
   },
   {
    "duration": 30,
    "start_time": "2021-10-13T12:04:39.570Z"
   },
   {
    "duration": 21,
    "start_time": "2021-10-13T12:04:53.118Z"
   },
   {
    "duration": 29,
    "start_time": "2021-10-13T12:05:02.387Z"
   },
   {
    "duration": 8514,
    "start_time": "2021-10-13T12:05:18.639Z"
   },
   {
    "duration": 9094,
    "start_time": "2021-10-13T12:06:01.405Z"
   },
   {
    "duration": 21,
    "start_time": "2021-10-13T12:06:14.282Z"
   },
   {
    "duration": 26,
    "start_time": "2021-10-13T12:06:22.703Z"
   },
   {
    "duration": 36,
    "start_time": "2021-10-13T12:07:05.706Z"
   },
   {
    "duration": 29,
    "start_time": "2021-10-13T12:07:07.076Z"
   },
   {
    "duration": 35,
    "start_time": "2021-10-13T12:07:38.231Z"
   },
   {
    "duration": 31,
    "start_time": "2021-10-13T12:07:39.487Z"
   },
   {
    "duration": 61,
    "start_time": "2021-10-13T12:08:24.600Z"
   },
   {
    "duration": 30,
    "start_time": "2021-10-13T12:08:25.612Z"
   },
   {
    "duration": 928,
    "start_time": "2021-10-13T12:09:24.576Z"
   },
   {
    "duration": 137,
    "start_time": "2021-10-13T12:09:31.766Z"
   },
   {
    "duration": 53,
    "start_time": "2021-10-13T12:09:39.557Z"
   },
   {
    "duration": 33,
    "start_time": "2021-10-13T12:09:40.768Z"
   },
   {
    "duration": 17,
    "start_time": "2021-10-13T12:10:03.963Z"
   },
   {
    "duration": 4,
    "start_time": "2021-10-13T12:10:27.138Z"
   },
   {
    "duration": 184,
    "start_time": "2021-10-13T12:10:27.874Z"
   },
   {
    "duration": 16,
    "start_time": "2021-10-13T12:10:28.410Z"
   },
   {
    "duration": 34,
    "start_time": "2021-10-13T12:10:28.950Z"
   },
   {
    "duration": 5,
    "start_time": "2021-10-13T12:10:30.120Z"
   },
   {
    "duration": 17,
    "start_time": "2021-10-13T12:10:31.309Z"
   },
   {
    "duration": 15,
    "start_time": "2021-10-13T12:10:32.231Z"
   },
   {
    "duration": 28,
    "start_time": "2021-10-13T12:10:34.088Z"
   },
   {
    "duration": 5,
    "start_time": "2021-10-13T12:11:20.319Z"
   },
   {
    "duration": 20,
    "start_time": "2021-10-13T12:11:21.550Z"
   },
   {
    "duration": 15,
    "start_time": "2021-10-13T12:11:22.511Z"
   },
   {
    "duration": 29,
    "start_time": "2021-10-13T12:11:26.659Z"
   },
   {
    "duration": 33,
    "start_time": "2021-10-13T12:12:17.134Z"
   },
   {
    "duration": 19,
    "start_time": "2021-10-13T12:12:31.962Z"
   },
   {
    "duration": 16,
    "start_time": "2021-10-13T12:13:02.215Z"
   },
   {
    "duration": 29,
    "start_time": "2021-10-13T12:13:52.521Z"
   },
   {
    "duration": 17,
    "start_time": "2021-10-13T12:13:53.337Z"
   },
   {
    "duration": 348,
    "start_time": "2021-10-13T12:14:01.049Z"
   },
   {
    "duration": 34,
    "start_time": "2021-10-13T12:14:05.871Z"
   },
   {
    "duration": 36,
    "start_time": "2021-10-13T12:14:13.245Z"
   },
   {
    "duration": 326,
    "start_time": "2021-10-13T12:14:41.184Z"
   },
   {
    "duration": 395,
    "start_time": "2021-10-13T12:16:05.775Z"
   },
   {
    "duration": 79,
    "start_time": "2021-10-13T12:16:28.643Z"
   },
   {
    "duration": 77,
    "start_time": "2021-10-13T12:16:33.546Z"
   },
   {
    "duration": 330,
    "start_time": "2021-10-13T12:17:09.453Z"
   },
   {
    "duration": 314,
    "start_time": "2021-10-13T12:18:23.825Z"
   },
   {
    "duration": 325,
    "start_time": "2021-10-13T12:18:41.849Z"
   },
   {
    "duration": 32,
    "start_time": "2021-10-13T12:18:44.919Z"
   },
   {
    "duration": 30,
    "start_time": "2021-10-13T12:18:58.185Z"
   },
   {
    "duration": 80,
    "start_time": "2021-10-13T12:18:59.002Z"
   },
   {
    "duration": 105,
    "start_time": "2021-10-13T12:19:18.083Z"
   },
   {
    "duration": 366,
    "start_time": "2021-10-13T12:19:26.161Z"
   },
   {
    "duration": 93,
    "start_time": "2021-10-13T12:19:29.289Z"
   },
   {
    "duration": 332,
    "start_time": "2021-10-13T12:19:43.119Z"
   },
   {
    "duration": 78,
    "start_time": "2021-10-13T12:19:49.930Z"
   },
   {
    "duration": 8724,
    "start_time": "2021-10-13T12:21:34.294Z"
   },
   {
    "duration": 7,
    "start_time": "2021-10-13T12:21:51.990Z"
   },
   {
    "duration": 322,
    "start_time": "2021-10-13T12:21:57.334Z"
   },
   {
    "duration": 436,
    "start_time": "2021-10-13T12:22:10.865Z"
   },
   {
    "duration": 320,
    "start_time": "2021-10-13T12:22:18.208Z"
   },
   {
    "duration": 415,
    "start_time": "2021-10-13T12:22:25.618Z"
   },
   {
    "duration": 336,
    "start_time": "2021-10-13T12:23:16.841Z"
   },
   {
    "duration": 380,
    "start_time": "2021-10-13T12:23:24.024Z"
   },
   {
    "duration": 4,
    "start_time": "2021-10-13T12:23:27.773Z"
   },
   {
    "duration": 189,
    "start_time": "2021-10-13T12:23:28.506Z"
   },
   {
    "duration": 16,
    "start_time": "2021-10-13T12:23:28.961Z"
   },
   {
    "duration": 33,
    "start_time": "2021-10-13T12:23:29.379Z"
   },
   {
    "duration": 5,
    "start_time": "2021-10-13T12:23:30.312Z"
   },
   {
    "duration": 25,
    "start_time": "2021-10-13T12:23:31.212Z"
   },
   {
    "duration": 15,
    "start_time": "2021-10-13T12:23:31.779Z"
   },
   {
    "duration": 30,
    "start_time": "2021-10-13T12:23:32.517Z"
   },
   {
    "duration": 35,
    "start_time": "2021-10-13T12:23:33.349Z"
   },
   {
    "duration": 32,
    "start_time": "2021-10-13T12:23:33.742Z"
   },
   {
    "duration": 97,
    "start_time": "2021-10-13T12:23:35.337Z"
   },
   {
    "duration": 96,
    "start_time": "2021-10-13T12:23:36.123Z"
   },
   {
    "duration": 75,
    "start_time": "2021-10-13T12:23:37.241Z"
   },
   {
    "duration": 14,
    "start_time": "2021-10-13T12:23:39.281Z"
   },
   {
    "duration": 4,
    "start_time": "2021-10-13T12:29:25.664Z"
   },
   {
    "duration": 17,
    "start_time": "2021-10-13T12:30:55.291Z"
   },
   {
    "duration": 9,
    "start_time": "2021-10-13T12:31:26.955Z"
   },
   {
    "duration": 506,
    "start_time": "2021-10-13T12:37:08.750Z"
   },
   {
    "duration": 318,
    "start_time": "2021-10-13T12:38:18.658Z"
   },
   {
    "duration": 309,
    "start_time": "2021-10-13T12:38:47.104Z"
   },
   {
    "duration": 320,
    "start_time": "2021-10-13T12:39:56.585Z"
   },
   {
    "duration": 79,
    "start_time": "2021-10-13T12:41:33.371Z"
   },
   {
    "duration": 40,
    "start_time": "2021-10-13T12:41:51.577Z"
   },
   {
    "duration": 328,
    "start_time": "2021-10-13T12:43:09.038Z"
   },
   {
    "duration": 13,
    "start_time": "2021-10-13T12:43:39.537Z"
   },
   {
    "duration": 13,
    "start_time": "2021-10-13T12:43:49.513Z"
   },
   {
    "duration": 16,
    "start_time": "2021-10-13T12:44:00.196Z"
   },
   {
    "duration": 42,
    "start_time": "2021-10-13T12:44:40.852Z"
   },
   {
    "duration": 16,
    "start_time": "2021-10-13T12:45:00.027Z"
   },
   {
    "duration": 40,
    "start_time": "2021-10-13T12:45:41.730Z"
   },
   {
    "duration": 40,
    "start_time": "2021-10-13T12:49:04.757Z"
   },
   {
    "duration": 422,
    "start_time": "2021-10-13T12:49:46.984Z"
   },
   {
    "duration": 11,
    "start_time": "2021-10-13T12:50:07.463Z"
   },
   {
    "duration": 15,
    "start_time": "2021-10-13T12:50:14.996Z"
   },
   {
    "duration": 412,
    "start_time": "2021-10-13T12:51:32.315Z"
   },
   {
    "duration": 9507,
    "start_time": "2021-10-13T12:52:40.262Z"
   },
   {
    "duration": 13,
    "start_time": "2021-10-13T12:54:21.525Z"
   },
   {
    "duration": 13,
    "start_time": "2021-10-13T12:54:41.337Z"
   },
   {
    "duration": 8746,
    "start_time": "2021-10-13T12:55:21.837Z"
   },
   {
    "duration": 38,
    "start_time": "2021-10-13T12:58:08.814Z"
   },
   {
    "duration": 11,
    "start_time": "2021-10-13T12:58:23.800Z"
   },
   {
    "duration": 42,
    "start_time": "2021-10-13T12:58:27.789Z"
   },
   {
    "duration": 11,
    "start_time": "2021-10-13T12:58:39.076Z"
   },
   {
    "duration": 6,
    "start_time": "2021-10-13T12:58:49.684Z"
   },
   {
    "duration": 9387,
    "start_time": "2021-10-13T12:59:37.939Z"
   },
   {
    "duration": 11360,
    "start_time": "2021-10-13T13:00:58.346Z"
   },
   {
    "duration": 38,
    "start_time": "2021-10-13T13:01:57.802Z"
   },
   {
    "duration": 10,
    "start_time": "2021-10-13T13:02:28.498Z"
   },
   {
    "duration": 42,
    "start_time": "2021-10-13T13:03:30.695Z"
   },
   {
    "duration": 8067,
    "start_time": "2021-10-13T13:04:53.931Z"
   },
   {
    "duration": 43,
    "start_time": "2021-10-13T13:05:37.091Z"
   },
   {
    "duration": 7845,
    "start_time": "2021-10-13T13:05:51.979Z"
   },
   {
    "duration": 13,
    "start_time": "2021-10-13T13:06:35.123Z"
   },
   {
    "duration": 9257,
    "start_time": "2021-10-13T13:08:30.792Z"
   },
   {
    "duration": 7,
    "start_time": "2021-10-13T13:09:08.191Z"
   },
   {
    "duration": 327,
    "start_time": "2021-10-13T13:09:13.188Z"
   },
   {
    "duration": 6,
    "start_time": "2021-10-13T13:09:23.226Z"
   },
   {
    "duration": 9805,
    "start_time": "2021-10-13T13:09:24.534Z"
   },
   {
    "duration": 7,
    "start_time": "2021-10-13T13:10:10.917Z"
   },
   {
    "duration": 3,
    "start_time": "2021-10-13T13:10:29.833Z"
   },
   {
    "duration": 188,
    "start_time": "2021-10-13T13:10:30.599Z"
   },
   {
    "duration": 17,
    "start_time": "2021-10-13T13:10:31.302Z"
   },
   {
    "duration": 33,
    "start_time": "2021-10-13T13:10:31.780Z"
   },
   {
    "duration": 6,
    "start_time": "2021-10-13T13:10:32.817Z"
   },
   {
    "duration": 26,
    "start_time": "2021-10-13T13:10:33.603Z"
   },
   {
    "duration": 14,
    "start_time": "2021-10-13T13:10:34.091Z"
   },
   {
    "duration": 29,
    "start_time": "2021-10-13T13:10:34.565Z"
   },
   {
    "duration": 29,
    "start_time": "2021-10-13T13:10:35.235Z"
   },
   {
    "duration": 29,
    "start_time": "2021-10-13T13:10:36.054Z"
   },
   {
    "duration": 79,
    "start_time": "2021-10-13T13:10:37.932Z"
   },
   {
    "duration": 89,
    "start_time": "2021-10-13T13:10:38.545Z"
   },
   {
    "duration": 72,
    "start_time": "2021-10-13T13:10:39.130Z"
   },
   {
    "duration": 10,
    "start_time": "2021-10-13T13:10:39.874Z"
   },
   {
    "duration": 5,
    "start_time": "2021-10-13T13:10:40.998Z"
   },
   {
    "duration": 13,
    "start_time": "2021-10-13T13:10:41.992Z"
   },
   {
    "duration": 9,
    "start_time": "2021-10-13T13:10:43.062Z"
   },
   {
    "duration": 40,
    "start_time": "2021-10-13T13:10:45.966Z"
   },
   {
    "duration": 8,
    "start_time": "2021-10-13T13:11:29.935Z"
   },
   {
    "duration": 40,
    "start_time": "2021-10-13T13:11:34.496Z"
   },
   {
    "duration": 8,
    "start_time": "2021-10-13T13:11:38.263Z"
   },
   {
    "duration": 743,
    "start_time": "2021-10-13T13:13:27.540Z"
   },
   {
    "duration": 399,
    "start_time": "2021-10-13T13:13:38.336Z"
   },
   {
    "duration": 4,
    "start_time": "2021-10-13T13:15:26.149Z"
   },
   {
    "duration": 847,
    "start_time": "2021-10-13T13:16:00.235Z"
   },
   {
    "duration": 713,
    "start_time": "2021-10-13T13:16:06.323Z"
   },
   {
    "duration": 44,
    "start_time": "2021-10-13T13:16:22.988Z"
   },
   {
    "duration": 7,
    "start_time": "2021-10-13T13:16:53.824Z"
   },
   {
    "duration": 13,
    "start_time": "2021-10-13T13:16:57.457Z"
   },
   {
    "duration": 660,
    "start_time": "2021-10-13T13:17:09.798Z"
   },
   {
    "duration": 10,
    "start_time": "2021-10-13T13:17:32.619Z"
   },
   {
    "duration": 9,
    "start_time": "2021-10-13T13:17:43.977Z"
   },
   {
    "duration": 6,
    "start_time": "2021-10-13T13:18:08.866Z"
   },
   {
    "duration": 4,
    "start_time": "2021-10-13T13:18:13.729Z"
   },
   {
    "duration": 196,
    "start_time": "2021-10-13T13:18:14.460Z"
   },
   {
    "duration": 17,
    "start_time": "2021-10-13T13:18:15.306Z"
   },
   {
    "duration": 34,
    "start_time": "2021-10-13T13:18:16.033Z"
   },
   {
    "duration": 5,
    "start_time": "2021-10-13T13:18:17.611Z"
   },
   {
    "duration": 25,
    "start_time": "2021-10-13T13:18:18.697Z"
   },
   {
    "duration": 16,
    "start_time": "2021-10-13T13:18:19.590Z"
   },
   {
    "duration": 36,
    "start_time": "2021-10-13T13:18:20.375Z"
   },
   {
    "duration": 31,
    "start_time": "2021-10-13T13:18:21.567Z"
   },
   {
    "duration": 31,
    "start_time": "2021-10-13T13:18:22.295Z"
   },
   {
    "duration": 82,
    "start_time": "2021-10-13T13:18:23.199Z"
   },
   {
    "duration": 90,
    "start_time": "2021-10-13T13:18:23.837Z"
   },
   {
    "duration": 78,
    "start_time": "2021-10-13T13:18:24.468Z"
   },
   {
    "duration": 10,
    "start_time": "2021-10-13T13:18:29.821Z"
   },
   {
    "duration": 4,
    "start_time": "2021-10-13T13:18:30.698Z"
   },
   {
    "duration": 18,
    "start_time": "2021-10-13T13:18:31.937Z"
   },
   {
    "duration": 10,
    "start_time": "2021-10-13T13:18:32.594Z"
   },
   {
    "duration": 42,
    "start_time": "2021-10-13T13:18:34.808Z"
   },
   {
    "duration": 782,
    "start_time": "2021-10-13T13:18:38.915Z"
   },
   {
    "duration": 7,
    "start_time": "2021-10-13T13:18:59.894Z"
   },
   {
    "duration": 443,
    "start_time": "2021-10-13T13:19:42.738Z"
   },
   {
    "duration": 6,
    "start_time": "2021-10-13T13:19:46.601Z"
   },
   {
    "duration": 792,
    "start_time": "2021-10-13T13:20:49.529Z"
   },
   {
    "duration": 1016,
    "start_time": "2021-10-13T13:21:03.205Z"
   },
   {
    "duration": 987,
    "start_time": "2021-10-13T13:21:37.452Z"
   },
   {
    "duration": 464,
    "start_time": "2021-10-13T13:21:40.791Z"
   },
   {
    "duration": 720,
    "start_time": "2021-10-13T13:21:52.587Z"
   },
   {
    "duration": 941,
    "start_time": "2021-10-13T13:22:02.637Z"
   },
   {
    "duration": 674,
    "start_time": "2021-10-13T13:22:05.335Z"
   },
   {
    "duration": 3,
    "start_time": "2021-10-13T13:22:10.448Z"
   },
   {
    "duration": 182,
    "start_time": "2021-10-13T13:22:11.274Z"
   },
   {
    "duration": 16,
    "start_time": "2021-10-13T13:22:11.641Z"
   },
   {
    "duration": 33,
    "start_time": "2021-10-13T13:22:11.980Z"
   },
   {
    "duration": 4,
    "start_time": "2021-10-13T13:22:12.827Z"
   },
   {
    "duration": 27,
    "start_time": "2021-10-13T13:22:13.372Z"
   },
   {
    "duration": 14,
    "start_time": "2021-10-13T13:22:13.744Z"
   },
   {
    "duration": 30,
    "start_time": "2021-10-13T13:22:14.132Z"
   },
   {
    "duration": 32,
    "start_time": "2021-10-13T13:22:14.674Z"
   },
   {
    "duration": 28,
    "start_time": "2021-10-13T13:22:15.023Z"
   },
   {
    "duration": 79,
    "start_time": "2021-10-13T13:22:15.475Z"
   },
   {
    "duration": 90,
    "start_time": "2021-10-13T13:22:15.886Z"
   },
   {
    "duration": 76,
    "start_time": "2021-10-13T13:22:16.248Z"
   },
   {
    "duration": 9,
    "start_time": "2021-10-13T13:22:16.826Z"
   },
   {
    "duration": 5,
    "start_time": "2021-10-13T13:22:17.245Z"
   },
   {
    "duration": 14,
    "start_time": "2021-10-13T13:22:17.726Z"
   },
   {
    "duration": 10,
    "start_time": "2021-10-13T13:22:18.162Z"
   },
   {
    "duration": 60,
    "start_time": "2021-10-13T13:22:19.625Z"
   },
   {
    "duration": 557,
    "start_time": "2021-10-13T13:22:20.871Z"
   },
   {
    "duration": 9,
    "start_time": "2021-10-13T13:22:34.422Z"
   },
   {
    "duration": 742,
    "start_time": "2021-10-13T13:22:35.694Z"
   },
   {
    "duration": 4,
    "start_time": "2021-10-13T13:22:40.924Z"
   },
   {
    "duration": 12,
    "start_time": "2021-10-13T13:22:43.342Z"
   },
   {
    "duration": 3,
    "start_time": "2021-10-13T13:22:45.722Z"
   },
   {
    "duration": 182,
    "start_time": "2021-10-13T13:22:46.343Z"
   },
   {
    "duration": 16,
    "start_time": "2021-10-13T13:22:46.934Z"
   },
   {
    "duration": 33,
    "start_time": "2021-10-13T13:22:47.665Z"
   },
   {
    "duration": 4,
    "start_time": "2021-10-13T13:22:48.604Z"
   },
   {
    "duration": 25,
    "start_time": "2021-10-13T13:22:49.284Z"
   },
   {
    "duration": 14,
    "start_time": "2021-10-13T13:22:49.692Z"
   },
   {
    "duration": 28,
    "start_time": "2021-10-13T13:22:50.140Z"
   },
   {
    "duration": 31,
    "start_time": "2021-10-13T13:22:50.832Z"
   },
   {
    "duration": 30,
    "start_time": "2021-10-13T13:22:51.274Z"
   },
   {
    "duration": 82,
    "start_time": "2021-10-13T13:22:51.684Z"
   },
   {
    "duration": 91,
    "start_time": "2021-10-13T13:22:52.126Z"
   },
   {
    "duration": 75,
    "start_time": "2021-10-13T13:22:52.589Z"
   },
   {
    "duration": 10,
    "start_time": "2021-10-13T13:22:53.500Z"
   },
   {
    "duration": 5,
    "start_time": "2021-10-13T13:22:54.018Z"
   },
   {
    "duration": 14,
    "start_time": "2021-10-13T13:22:55.072Z"
   },
   {
    "duration": 9,
    "start_time": "2021-10-13T13:22:55.782Z"
   },
   {
    "duration": 41,
    "start_time": "2021-10-13T13:22:57.678Z"
   },
   {
    "duration": 612,
    "start_time": "2021-10-13T13:22:58.590Z"
   },
   {
    "duration": 493,
    "start_time": "2021-10-13T13:23:22.965Z"
   },
   {
    "duration": 418,
    "start_time": "2021-10-13T13:24:00.265Z"
   },
   {
    "duration": 13675,
    "start_time": "2021-10-13T13:24:47.588Z"
   },
   {
    "duration": 8,
    "start_time": "2021-10-13T13:26:24.829Z"
   },
   {
    "duration": 13276,
    "start_time": "2021-10-13T13:26:50.035Z"
   },
   {
    "duration": 16257,
    "start_time": "2021-10-13T13:27:43.557Z"
   },
   {
    "duration": 7,
    "start_time": "2021-10-13T13:28:42.138Z"
   },
   {
    "duration": 43,
    "start_time": "2021-10-13T13:28:47.685Z"
   },
   {
    "duration": 5,
    "start_time": "2021-10-13T13:28:56.414Z"
   },
   {
    "duration": 6,
    "start_time": "2021-10-13T13:29:03.692Z"
   },
   {
    "duration": 44,
    "start_time": "2021-10-13T13:29:08.306Z"
   },
   {
    "duration": 45,
    "start_time": "2021-10-13T13:29:18.487Z"
   },
   {
    "duration": 46,
    "start_time": "2021-10-13T13:29:19.590Z"
   },
   {
    "duration": 14,
    "start_time": "2021-10-13T13:30:17.432Z"
   },
   {
    "duration": 42,
    "start_time": "2021-10-13T13:57:31.717Z"
   },
   {
    "duration": 378,
    "start_time": "2021-10-13T13:57:32.652Z"
   },
   {
    "duration": 365,
    "start_time": "2021-10-13T13:57:47.202Z"
   },
   {
    "duration": 13,
    "start_time": "2021-10-13T13:57:58.666Z"
   },
   {
    "duration": 327,
    "start_time": "2021-10-13T13:57:59.573Z"
   },
   {
    "duration": 6,
    "start_time": "2021-10-13T13:58:10.608Z"
   },
   {
    "duration": 12,
    "start_time": "2021-10-13T13:58:14.116Z"
   },
   {
    "duration": 332,
    "start_time": "2021-10-13T13:58:15.386Z"
   },
   {
    "duration": 3,
    "start_time": "2021-10-13T13:58:19.492Z"
   },
   {
    "duration": 188,
    "start_time": "2021-10-13T13:58:20.121Z"
   },
   {
    "duration": 16,
    "start_time": "2021-10-13T13:58:20.781Z"
   },
   {
    "duration": 32,
    "start_time": "2021-10-13T13:58:21.223Z"
   },
   {
    "duration": 4,
    "start_time": "2021-10-13T13:58:22.390Z"
   },
   {
    "duration": 24,
    "start_time": "2021-10-13T13:58:23.219Z"
   },
   {
    "duration": 14,
    "start_time": "2021-10-13T13:58:23.934Z"
   },
   {
    "duration": 30,
    "start_time": "2021-10-13T13:58:24.639Z"
   },
   {
    "duration": 29,
    "start_time": "2021-10-13T13:58:25.603Z"
   },
   {
    "duration": 30,
    "start_time": "2021-10-13T13:58:25.954Z"
   },
   {
    "duration": 82,
    "start_time": "2021-10-13T13:58:26.467Z"
   },
   {
    "duration": 87,
    "start_time": "2021-10-13T13:58:26.861Z"
   },
   {
    "duration": 76,
    "start_time": "2021-10-13T13:58:27.288Z"
   },
   {
    "duration": 9,
    "start_time": "2021-10-13T13:58:27.948Z"
   },
   {
    "duration": 4,
    "start_time": "2021-10-13T13:58:29.023Z"
   },
   {
    "duration": 13,
    "start_time": "2021-10-13T13:58:30.203Z"
   },
   {
    "duration": 9,
    "start_time": "2021-10-13T13:58:31.150Z"
   },
   {
    "duration": 42,
    "start_time": "2021-10-13T13:58:38.459Z"
   },
   {
    "duration": 18,
    "start_time": "2021-10-13T13:58:39.404Z"
   },
   {
    "duration": 18,
    "start_time": "2021-10-13T13:58:46.728Z"
   },
   {
    "duration": 14,
    "start_time": "2021-10-13T13:58:55.569Z"
   },
   {
    "duration": 4,
    "start_time": "2021-10-13T14:03:49.991Z"
   },
   {
    "duration": 873,
    "start_time": "2021-10-13T14:05:23.203Z"
   },
   {
    "duration": 42,
    "start_time": "2021-10-13T14:08:47.115Z"
   },
   {
    "duration": 15,
    "start_time": "2021-10-13T14:08:47.977Z"
   },
   {
    "duration": 4,
    "start_time": "2021-10-13T14:08:49.208Z"
   },
   {
    "duration": 649,
    "start_time": "2021-10-13T14:08:51.317Z"
   },
   {
    "duration": 1651,
    "start_time": "2021-10-13T14:09:01.562Z"
   },
   {
    "duration": 8,
    "start_time": "2021-10-13T14:09:05.064Z"
   },
   {
    "duration": 2545,
    "start_time": "2021-10-13T14:09:06.418Z"
   },
   {
    "duration": 5,
    "start_time": "2021-10-13T14:10:16.029Z"
   },
   {
    "duration": 24,
    "start_time": "2021-10-13T14:10:17.650Z"
   },
   {
    "duration": 5,
    "start_time": "2021-10-13T14:12:29.696Z"
   },
   {
    "duration": 339,
    "start_time": "2021-10-13T14:12:30.696Z"
   },
   {
    "duration": 6,
    "start_time": "2021-10-13T14:12:44.266Z"
   },
   {
    "duration": 26,
    "start_time": "2021-10-13T14:12:44.947Z"
   },
   {
    "duration": 5,
    "start_time": "2021-10-13T14:12:50.842Z"
   },
   {
    "duration": 25,
    "start_time": "2021-10-13T14:12:51.853Z"
   },
   {
    "duration": 19,
    "start_time": "2021-10-13T14:14:44.098Z"
   },
   {
    "duration": 19,
    "start_time": "2021-10-13T14:15:08.236Z"
   },
   {
    "duration": 16,
    "start_time": "2021-10-13T14:15:36.602Z"
   },
   {
    "duration": 23,
    "start_time": "2021-10-13T14:15:39.462Z"
   },
   {
    "duration": 19,
    "start_time": "2021-10-13T14:15:40.070Z"
   },
   {
    "duration": 18,
    "start_time": "2021-10-13T14:15:40.906Z"
   },
   {
    "duration": 23,
    "start_time": "2021-10-13T14:15:51.909Z"
   },
   {
    "duration": 21,
    "start_time": "2021-10-13T14:16:03.650Z"
   },
   {
    "duration": 23,
    "start_time": "2021-10-13T14:16:09.806Z"
   },
   {
    "duration": 600,
    "start_time": "2021-10-13T14:19:59.905Z"
   },
   {
    "duration": 6,
    "start_time": "2021-10-13T14:20:08.148Z"
   },
   {
    "duration": 12,
    "start_time": "2021-10-13T14:20:15.693Z"
   },
   {
    "duration": 25,
    "start_time": "2021-10-13T14:24:19.518Z"
   },
   {
    "duration": 22,
    "start_time": "2021-10-13T14:24:54.409Z"
   },
   {
    "duration": 104,
    "start_time": "2021-10-13T14:38:44.109Z"
   },
   {
    "duration": 132,
    "start_time": "2021-10-13T14:38:55.595Z"
   },
   {
    "duration": 5,
    "start_time": "2021-10-13T14:39:15.266Z"
   },
   {
    "duration": 6,
    "start_time": "2021-10-13T14:40:22.499Z"
   },
   {
    "duration": 737,
    "start_time": "2021-10-13T14:40:24.554Z"
   },
   {
    "duration": 6,
    "start_time": "2021-10-13T14:40:53.516Z"
   },
   {
    "duration": 1081,
    "start_time": "2021-10-13T14:40:54.681Z"
   },
   {
    "duration": 6,
    "start_time": "2021-10-13T14:41:04.479Z"
   },
   {
    "duration": 26,
    "start_time": "2021-10-13T14:41:05.790Z"
   },
   {
    "duration": 5,
    "start_time": "2021-10-13T14:44:00.137Z"
   },
   {
    "duration": 24,
    "start_time": "2021-10-13T14:44:01.692Z"
   },
   {
    "duration": 6,
    "start_time": "2021-10-13T14:44:05.086Z"
   },
   {
    "duration": 25,
    "start_time": "2021-10-13T14:44:06.151Z"
   },
   {
    "duration": 5,
    "start_time": "2021-10-13T14:44:22.243Z"
   },
   {
    "duration": 21,
    "start_time": "2021-10-13T14:44:24.220Z"
   },
   {
    "duration": 15,
    "start_time": "2021-10-13T14:45:01.841Z"
   },
   {
    "duration": 12,
    "start_time": "2021-10-13T14:45:03.564Z"
   },
   {
    "duration": 5,
    "start_time": "2021-10-13T14:45:04.613Z"
   },
   {
    "duration": 22,
    "start_time": "2021-10-13T14:45:06.100Z"
   },
   {
    "duration": 43,
    "start_time": "2021-10-13T14:45:11.636Z"
   },
   {
    "duration": 23,
    "start_time": "2021-10-13T14:45:12.087Z"
   },
   {
    "duration": 5,
    "start_time": "2021-10-13T14:45:13.017Z"
   },
   {
    "duration": 24,
    "start_time": "2021-10-13T14:45:20.806Z"
   },
   {
    "duration": 22,
    "start_time": "2021-10-13T14:45:46.057Z"
   },
   {
    "duration": 5,
    "start_time": "2021-10-13T14:45:47.508Z"
   },
   {
    "duration": 27,
    "start_time": "2021-10-13T14:45:49.602Z"
   },
   {
    "duration": 5,
    "start_time": "2021-10-13T14:47:17.898Z"
   },
   {
    "duration": 9377,
    "start_time": "2021-10-13T14:47:19.177Z"
   },
   {
    "duration": 5,
    "start_time": "2021-10-13T14:48:26.678Z"
   },
   {
    "duration": 24,
    "start_time": "2021-10-13T14:48:28.209Z"
   },
   {
    "duration": 6,
    "start_time": "2021-10-13T14:50:21.947Z"
   },
   {
    "duration": 25,
    "start_time": "2021-10-13T14:50:23.325Z"
   },
   {
    "duration": 5,
    "start_time": "2021-10-13T14:51:25.732Z"
   },
   {
    "duration": 25,
    "start_time": "2021-10-13T14:51:27.086Z"
   },
   {
    "duration": 5,
    "start_time": "2021-10-13T14:52:03.537Z"
   },
   {
    "duration": 682,
    "start_time": "2021-10-13T14:52:04.694Z"
   },
   {
    "duration": 9,
    "start_time": "2021-10-13T14:52:10.654Z"
   },
   {
    "duration": 28,
    "start_time": "2021-10-13T14:52:11.574Z"
   },
   {
    "duration": 25,
    "start_time": "2021-10-13T14:53:03.875Z"
   },
   {
    "duration": 24,
    "start_time": "2021-10-13T14:53:04.377Z"
   },
   {
    "duration": 6,
    "start_time": "2021-10-13T14:53:05.239Z"
   },
   {
    "duration": 25,
    "start_time": "2021-10-13T14:53:06.284Z"
   },
   {
    "duration": 6,
    "start_time": "2021-10-13T14:53:43.683Z"
   },
   {
    "duration": 32,
    "start_time": "2021-10-13T14:53:44.849Z"
   },
   {
    "duration": 7,
    "start_time": "2021-10-13T14:54:13.276Z"
   },
   {
    "duration": 24,
    "start_time": "2021-10-13T14:54:13.991Z"
   },
   {
    "duration": 28,
    "start_time": "2021-10-13T14:54:56.073Z"
   },
   {
    "duration": 24,
    "start_time": "2021-10-13T14:54:56.515Z"
   },
   {
    "duration": 5,
    "start_time": "2021-10-13T14:54:57.270Z"
   },
   {
    "duration": 26,
    "start_time": "2021-10-13T14:54:58.080Z"
   },
   {
    "duration": 6,
    "start_time": "2021-10-13T14:55:25.227Z"
   },
   {
    "duration": 34,
    "start_time": "2021-10-13T14:55:25.862Z"
   },
   {
    "duration": 111,
    "start_time": "2021-10-13T14:55:34.321Z"
   },
   {
    "duration": 6,
    "start_time": "2021-10-13T14:55:47.202Z"
   },
   {
    "duration": 26,
    "start_time": "2021-10-13T14:55:49.533Z"
   },
   {
    "duration": 5,
    "start_time": "2021-10-13T14:55:55.496Z"
   },
   {
    "duration": 61,
    "start_time": "2021-10-13T14:55:56.181Z"
   },
   {
    "duration": 6,
    "start_time": "2021-10-13T14:56:07.374Z"
   },
   {
    "duration": 23,
    "start_time": "2021-10-13T14:56:08.339Z"
   },
   {
    "duration": 6,
    "start_time": "2021-10-13T14:56:55.202Z"
   },
   {
    "duration": 22,
    "start_time": "2021-10-13T14:56:56.048Z"
   },
   {
    "duration": 6,
    "start_time": "2021-10-13T14:57:38.197Z"
   },
   {
    "duration": 1139,
    "start_time": "2021-10-13T14:57:38.909Z"
   },
   {
    "duration": 12,
    "start_time": "2021-10-13T14:57:45.354Z"
   },
   {
    "duration": 646,
    "start_time": "2021-10-13T14:57:46.127Z"
   },
   {
    "duration": 5,
    "start_time": "2021-10-13T14:57:56.281Z"
   },
   {
    "duration": 6,
    "start_time": "2021-10-13T14:58:03.349Z"
   },
   {
    "duration": 23,
    "start_time": "2021-10-13T14:58:04.058Z"
   },
   {
    "duration": 106,
    "start_time": "2021-10-13T14:58:43.040Z"
   },
   {
    "duration": 6,
    "start_time": "2021-10-13T14:59:04.894Z"
   },
   {
    "duration": 27,
    "start_time": "2021-10-13T14:59:06.083Z"
   },
   {
    "duration": 5,
    "start_time": "2021-10-13T14:59:43.829Z"
   },
   {
    "duration": 1471,
    "start_time": "2021-10-13T14:59:44.580Z"
   },
   {
    "duration": 5,
    "start_time": "2021-10-13T14:59:51.747Z"
   },
   {
    "duration": 28,
    "start_time": "2021-10-13T14:59:52.614Z"
   },
   {
    "duration": 8,
    "start_time": "2021-10-13T15:01:07.358Z"
   },
   {
    "duration": 25,
    "start_time": "2021-10-13T15:01:08.028Z"
   },
   {
    "duration": 6,
    "start_time": "2021-10-13T15:01:28.783Z"
   },
   {
    "duration": 9464,
    "start_time": "2021-10-13T15:01:29.686Z"
   },
   {
    "duration": 6,
    "start_time": "2021-10-13T15:01:49.751Z"
   },
   {
    "duration": 34,
    "start_time": "2021-10-13T15:01:49.797Z"
   },
   {
    "duration": 7,
    "start_time": "2021-10-13T15:03:44.456Z"
   },
   {
    "duration": 690,
    "start_time": "2021-10-13T15:03:45.323Z"
   },
   {
    "duration": 6,
    "start_time": "2021-10-13T15:04:16.006Z"
   },
   {
    "duration": 816,
    "start_time": "2021-10-13T15:04:16.914Z"
   },
   {
    "duration": 5,
    "start_time": "2021-10-13T15:04:25.663Z"
   },
   {
    "duration": 854,
    "start_time": "2021-10-13T15:04:26.553Z"
   },
   {
    "duration": 7,
    "start_time": "2021-10-13T15:05:06.906Z"
   },
   {
    "duration": 45,
    "start_time": "2021-10-13T15:05:07.750Z"
   },
   {
    "duration": 317,
    "start_time": "2021-10-13T15:06:57.646Z"
   },
   {
    "duration": 34,
    "start_time": "2021-10-13T15:07:15.961Z"
   },
   {
    "duration": 5,
    "start_time": "2021-10-13T15:07:34.620Z"
   },
   {
    "duration": 25,
    "start_time": "2021-10-13T15:07:35.616Z"
   },
   {
    "duration": 25,
    "start_time": "2021-10-13T15:07:36.292Z"
   },
   {
    "duration": 25,
    "start_time": "2021-10-13T15:07:51.278Z"
   },
   {
    "duration": 5,
    "start_time": "2021-10-13T15:07:55.771Z"
   },
   {
    "duration": 29,
    "start_time": "2021-10-13T15:07:57.074Z"
   },
   {
    "duration": 25,
    "start_time": "2021-10-13T15:07:57.878Z"
   },
   {
    "duration": 18,
    "start_time": "2021-10-13T15:08:11.335Z"
   },
   {
    "duration": 26,
    "start_time": "2021-10-13T15:08:52.101Z"
   },
   {
    "duration": 24,
    "start_time": "2021-10-13T15:09:07.757Z"
   },
   {
    "duration": 362,
    "start_time": "2021-10-13T15:17:22.278Z"
   },
   {
    "duration": 11,
    "start_time": "2021-10-13T15:18:03.575Z"
   },
   {
    "duration": 18,
    "start_time": "2021-10-13T15:18:08.568Z"
   },
   {
    "duration": 11,
    "start_time": "2021-10-13T15:18:30.610Z"
   },
   {
    "duration": 7,
    "start_time": "2021-10-13T15:18:35.943Z"
   },
   {
    "duration": 8,
    "start_time": "2021-10-13T15:19:06.442Z"
   },
   {
    "duration": 8,
    "start_time": "2021-10-13T15:19:15.455Z"
   },
   {
    "duration": 738,
    "start_time": "2021-10-13T17:16:25.290Z"
   },
   {
    "duration": 177,
    "start_time": "2021-10-13T17:16:26.031Z"
   },
   {
    "duration": 24,
    "start_time": "2021-10-13T17:16:26.211Z"
   },
   {
    "duration": 46,
    "start_time": "2021-10-13T17:16:26.238Z"
   },
   {
    "duration": 5,
    "start_time": "2021-10-13T17:16:26.287Z"
   },
   {
    "duration": 31,
    "start_time": "2021-10-13T17:16:26.295Z"
   },
   {
    "duration": 37,
    "start_time": "2021-10-13T17:16:26.329Z"
   },
   {
    "duration": 30,
    "start_time": "2021-10-13T17:16:26.372Z"
   },
   {
    "duration": 71,
    "start_time": "2021-10-13T17:16:26.406Z"
   },
   {
    "duration": 29,
    "start_time": "2021-10-13T17:16:26.480Z"
   },
   {
    "duration": 102,
    "start_time": "2021-10-13T17:16:26.511Z"
   },
   {
    "duration": 97,
    "start_time": "2021-10-13T17:16:26.615Z"
   },
   {
    "duration": 88,
    "start_time": "2021-10-13T17:16:26.714Z"
   },
   {
    "duration": 9,
    "start_time": "2021-10-13T17:16:26.804Z"
   },
   {
    "duration": 8,
    "start_time": "2021-10-13T17:16:26.815Z"
   },
   {
    "duration": 35,
    "start_time": "2021-10-13T17:16:26.825Z"
   },
   {
    "duration": 9,
    "start_time": "2021-10-13T17:16:26.862Z"
   },
   {
    "duration": 430,
    "start_time": "2021-10-13T17:16:26.873Z"
   },
   {
    "duration": -1,
    "start_time": "2021-10-13T17:16:27.308Z"
   },
   {
    "duration": -8,
    "start_time": "2021-10-13T17:16:27.317Z"
   },
   {
    "duration": -15,
    "start_time": "2021-10-13T17:16:27.325Z"
   },
   {
    "duration": -21,
    "start_time": "2021-10-13T17:16:27.333Z"
   },
   {
    "duration": -23,
    "start_time": "2021-10-13T17:16:27.336Z"
   },
   {
    "duration": -32,
    "start_time": "2021-10-13T17:16:27.346Z"
   },
   {
    "duration": -34,
    "start_time": "2021-10-13T17:16:27.350Z"
   },
   {
    "duration": -37,
    "start_time": "2021-10-13T17:16:27.354Z"
   },
   {
    "duration": -45,
    "start_time": "2021-10-13T17:16:27.364Z"
   },
   {
    "duration": -48,
    "start_time": "2021-10-13T17:16:27.368Z"
   },
   {
    "duration": -52,
    "start_time": "2021-10-13T17:16:27.374Z"
   },
   {
    "duration": -54,
    "start_time": "2021-10-13T17:16:27.377Z"
   },
   {
    "duration": -56,
    "start_time": "2021-10-13T17:16:27.381Z"
   },
   {
    "duration": -58,
    "start_time": "2021-10-13T17:16:27.384Z"
   },
   {
    "duration": -60,
    "start_time": "2021-10-13T17:16:27.387Z"
   },
   {
    "duration": -61,
    "start_time": "2021-10-13T17:16:27.390Z"
   },
   {
    "duration": -63,
    "start_time": "2021-10-13T17:16:27.393Z"
   },
   {
    "duration": -65,
    "start_time": "2021-10-13T17:16:27.396Z"
   },
   {
    "duration": -68,
    "start_time": "2021-10-13T17:16:27.400Z"
   },
   {
    "duration": -69,
    "start_time": "2021-10-13T17:16:27.403Z"
   },
   {
    "duration": 14,
    "start_time": "2021-10-13T17:16:46.365Z"
   },
   {
    "duration": 4,
    "start_time": "2021-10-13T17:16:46.382Z"
   },
   {
    "duration": 26,
    "start_time": "2021-10-13T17:16:46.390Z"
   },
   {
    "duration": 45,
    "start_time": "2021-10-13T17:16:46.419Z"
   },
   {
    "duration": 18,
    "start_time": "2021-10-13T17:16:46.466Z"
   },
   {
    "duration": 17,
    "start_time": "2021-10-13T17:16:46.486Z"
   },
   {
    "duration": 59,
    "start_time": "2021-10-13T17:16:46.506Z"
   },
   {
    "duration": 17,
    "start_time": "2021-10-13T17:16:46.567Z"
   },
   {
    "duration": 11,
    "start_time": "2021-10-13T17:16:46.590Z"
   },
   {
    "duration": 63,
    "start_time": "2021-10-13T17:16:46.605Z"
   },
   {
    "duration": 25,
    "start_time": "2021-10-13T17:16:46.671Z"
   },
   {
    "duration": 7,
    "start_time": "2021-10-13T17:16:46.699Z"
   },
   {
    "duration": 60,
    "start_time": "2021-10-13T17:16:46.708Z"
   },
   {
    "duration": 17,
    "start_time": "2021-10-13T17:16:46.771Z"
   },
   {
    "duration": 23,
    "start_time": "2021-10-13T17:16:46.791Z"
   },
   {
    "duration": 50,
    "start_time": "2021-10-13T17:16:46.817Z"
   },
   {
    "duration": 12,
    "start_time": "2021-10-13T17:16:46.869Z"
   },
   {
    "duration": 6,
    "start_time": "2021-10-13T17:16:46.883Z"
   },
   {
    "duration": 14,
    "start_time": "2021-10-13T17:16:46.892Z"
   },
   {
    "duration": 8,
    "start_time": "2021-10-13T17:16:46.908Z"
   },
   {
    "duration": 421,
    "start_time": "2021-10-13T20:24:19.541Z"
   },
   {
    "duration": 785,
    "start_time": "2021-10-13T20:25:15.678Z"
   },
   {
    "duration": 191,
    "start_time": "2021-10-13T20:25:17.204Z"
   },
   {
    "duration": 31,
    "start_time": "2021-10-13T20:25:17.805Z"
   },
   {
    "duration": 35,
    "start_time": "2021-10-13T20:25:18.296Z"
   },
   {
    "duration": 5,
    "start_time": "2021-10-13T20:25:19.950Z"
   },
   {
    "duration": 29,
    "start_time": "2021-10-13T20:25:20.777Z"
   },
   {
    "duration": 15,
    "start_time": "2021-10-13T20:25:21.431Z"
   },
   {
    "duration": 29,
    "start_time": "2021-10-13T20:25:22.476Z"
   },
   {
    "duration": 36,
    "start_time": "2021-10-13T20:25:23.558Z"
   },
   {
    "duration": 36,
    "start_time": "2021-10-13T20:25:24.437Z"
   },
   {
    "duration": 85,
    "start_time": "2021-10-13T20:25:25.567Z"
   },
   {
    "duration": 100,
    "start_time": "2021-10-13T20:25:26.493Z"
   },
   {
    "duration": 78,
    "start_time": "2021-10-13T20:25:27.513Z"
   },
   {
    "duration": 9,
    "start_time": "2021-10-13T20:25:29.656Z"
   },
   {
    "duration": 5,
    "start_time": "2021-10-13T20:25:30.790Z"
   },
   {
    "duration": 14,
    "start_time": "2021-10-13T20:25:31.386Z"
   },
   {
    "duration": 9,
    "start_time": "2021-10-13T20:25:31.923Z"
   },
   {
    "duration": 48,
    "start_time": "2021-10-13T20:25:35.700Z"
   },
   {
    "duration": 14,
    "start_time": "2021-10-13T20:25:55.899Z"
   },
   {
    "duration": 5,
    "start_time": "2021-10-13T20:25:56.960Z"
   },
   {
    "duration": 20,
    "start_time": "2021-10-13T20:25:58.444Z"
   },
   {
    "duration": 17,
    "start_time": "2021-10-13T20:25:58.662Z"
   },
   {
    "duration": 18,
    "start_time": "2021-10-13T20:25:58.863Z"
   },
   {
    "duration": 17,
    "start_time": "2021-10-13T20:25:59.256Z"
   },
   {
    "duration": 20,
    "start_time": "2021-10-13T20:25:59.276Z"
   },
   {
    "duration": 18,
    "start_time": "2021-10-13T20:25:59.461Z"
   },
   {
    "duration": 12,
    "start_time": "2021-10-13T20:25:59.913Z"
   },
   {
    "duration": 25,
    "start_time": "2021-10-13T20:26:01.246Z"
   },
   {
    "duration": 23,
    "start_time": "2021-10-13T20:26:01.447Z"
   },
   {
    "duration": 6,
    "start_time": "2021-10-13T20:26:01.844Z"
   },
   {
    "duration": 25,
    "start_time": "2021-10-13T20:26:02.305Z"
   },
   {
    "duration": 18,
    "start_time": "2021-10-13T20:26:02.508Z"
   },
   {
    "duration": 25,
    "start_time": "2021-10-13T20:26:02.731Z"
   },
   {
    "duration": 19,
    "start_time": "2021-10-13T20:26:02.941Z"
   },
   {
    "duration": 11,
    "start_time": "2021-10-13T20:26:04.064Z"
   },
   {
    "duration": 6,
    "start_time": "2021-10-13T20:26:04.533Z"
   },
   {
    "duration": 9,
    "start_time": "2021-10-13T20:26:05.069Z"
   },
   {
    "duration": 7,
    "start_time": "2021-10-13T20:26:05.569Z"
   },
   {
    "duration": 47,
    "start_time": "2021-10-13T20:26:49.995Z"
   },
   {
    "duration": 15,
    "start_time": "2021-10-13T20:26:51.209Z"
   },
   {
    "duration": 5,
    "start_time": "2021-10-13T20:26:51.836Z"
   },
   {
    "duration": 22,
    "start_time": "2021-10-13T20:26:52.401Z"
   },
   {
    "duration": 20,
    "start_time": "2021-10-13T20:26:52.621Z"
   },
   {
    "duration": 20,
    "start_time": "2021-10-13T20:26:52.810Z"
   },
   {
    "duration": 18,
    "start_time": "2021-10-13T20:26:52.994Z"
   },
   {
    "duration": 657,
    "start_time": "2021-10-14T16:10:30.250Z"
   },
   {
    "duration": 150,
    "start_time": "2021-10-14T16:10:30.909Z"
   },
   {
    "duration": 17,
    "start_time": "2021-10-14T16:10:31.061Z"
   },
   {
    "duration": 29,
    "start_time": "2021-10-14T16:10:31.080Z"
   },
   {
    "duration": 17,
    "start_time": "2021-10-14T16:10:31.111Z"
   },
   {
    "duration": 43,
    "start_time": "2021-10-14T16:10:31.129Z"
   },
   {
    "duration": 16,
    "start_time": "2021-10-14T16:10:31.174Z"
   },
   {
    "duration": 31,
    "start_time": "2021-10-14T16:10:31.192Z"
   },
   {
    "duration": 41,
    "start_time": "2021-10-14T16:10:31.225Z"
   },
   {
    "duration": 22,
    "start_time": "2021-10-14T16:10:31.267Z"
   },
   {
    "duration": 73,
    "start_time": "2021-10-14T16:10:31.291Z"
   },
   {
    "duration": 66,
    "start_time": "2021-10-14T16:10:31.365Z"
   },
   {
    "duration": 67,
    "start_time": "2021-10-14T16:10:31.433Z"
   },
   {
    "duration": 8,
    "start_time": "2021-10-14T16:10:31.501Z"
   },
   {
    "duration": 12,
    "start_time": "2021-10-14T16:10:31.510Z"
   },
   {
    "duration": 26,
    "start_time": "2021-10-14T16:10:31.523Z"
   },
   {
    "duration": 6,
    "start_time": "2021-10-14T16:10:31.551Z"
   },
   {
    "duration": 35,
    "start_time": "2021-10-14T16:10:31.559Z"
   },
   {
    "duration": 11,
    "start_time": "2021-10-14T16:10:31.595Z"
   },
   {
    "duration": 5,
    "start_time": "2021-10-14T16:10:31.608Z"
   },
   {
    "duration": 42,
    "start_time": "2021-10-14T16:10:31.615Z"
   },
   {
    "duration": 26,
    "start_time": "2021-10-14T16:10:31.659Z"
   },
   {
    "duration": 22,
    "start_time": "2021-10-14T16:10:31.688Z"
   },
   {
    "duration": 15,
    "start_time": "2021-10-14T16:10:31.712Z"
   },
   {
    "duration": 25,
    "start_time": "2021-10-14T16:10:31.729Z"
   },
   {
    "duration": 14,
    "start_time": "2021-10-14T16:10:31.756Z"
   },
   {
    "duration": 9,
    "start_time": "2021-10-14T16:10:31.771Z"
   },
   {
    "duration": 23,
    "start_time": "2021-10-14T16:10:31.781Z"
   },
   {
    "duration": 17,
    "start_time": "2021-10-14T16:10:31.806Z"
   },
   {
    "duration": 26,
    "start_time": "2021-10-14T16:10:31.825Z"
   },
   {
    "duration": 29,
    "start_time": "2021-10-14T16:10:31.853Z"
   },
   {
    "duration": 20,
    "start_time": "2021-10-14T16:10:31.884Z"
   },
   {
    "duration": 31,
    "start_time": "2021-10-14T16:10:31.906Z"
   },
   {
    "duration": 14,
    "start_time": "2021-10-14T16:10:31.938Z"
   },
   {
    "duration": 16,
    "start_time": "2021-10-14T16:10:31.954Z"
   },
   {
    "duration": 6,
    "start_time": "2021-10-14T16:10:31.972Z"
   },
   {
    "duration": 11,
    "start_time": "2021-10-14T16:10:31.980Z"
   },
   {
    "duration": 11,
    "start_time": "2021-10-14T16:10:31.992Z"
   }
  ],
  "colab": {
   "collapsed_sections": [
    "E0vqbgi9ay0H",
    "VUC88oWjTJw2"
   ],
   "name": "yandex_music_project_2021.2.ipynb",
   "provenance": []
  },
  "kernelspec": {
   "display_name": "Python 3 (ipykernel)",
   "language": "python",
   "name": "python3"
  },
  "language_info": {
   "codemirror_mode": {
    "name": "ipython",
    "version": 3
   },
   "file_extension": ".py",
   "mimetype": "text/x-python",
   "name": "python",
   "nbconvert_exporter": "python",
   "pygments_lexer": "ipython3",
   "version": "3.7.6"
  },
  "toc": {
   "base_numbering": 1,
   "nav_menu": {},
   "number_sections": true,
   "sideBar": true,
   "skip_h1_title": true,
   "title_cell": "Table of Contents",
   "title_sidebar": "Contents",
   "toc_cell": false,
   "toc_position": {
    "height": "calc(100% - 180px)",
    "left": "10px",
    "top": "150px",
    "width": "366.391px"
   },
   "toc_section_display": true,
   "toc_window_display": false
  }
 },
 "nbformat": 4,
 "nbformat_minor": 1
}
